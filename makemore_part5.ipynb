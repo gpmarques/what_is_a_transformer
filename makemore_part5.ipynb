{
 "cells": [
  {
   "cell_type": "code",
   "execution_count": 30,
   "metadata": {},
   "outputs": [
    {
     "name": "stdout",
     "output_type": "stream",
     "text": [
      "Using device: mps\n"
     ]
    }
   ],
   "source": [
    "import torch\n",
    "from torch.nn import functional as F\n",
    "import matplotlib.pyplot as plt\n",
    "import einops\n",
    "import math\n",
    "\n",
    "device = torch.device(\"mps\" if torch.backends.mps.is_available() else \"cpu\")\n",
    "print(f\"Using device: {device}\")\n",
    "\n",
    "g = torch.Generator().manual_seed(2147483647)"
   ]
  },
  {
   "cell_type": "code",
   "execution_count": 2,
   "metadata": {},
   "outputs": [
    {
     "data": {
      "text/plain": [
       "(['emma', 'olivia', 'ava', 'isabella', 'sophia'], ['a', 'b', 'c', 'd', 'e'])"
      ]
     },
     "execution_count": 2,
     "metadata": {},
     "output_type": "execute_result"
    }
   ],
   "source": [
    "names = list((open('data/names/names.txt', 'r').read().splitlines()))\n",
    "\n",
    "chars = sorted(set(''.join(names)))\n",
    "char_to_idx = {s: i for i, s in enumerate(['.'] + chars)}\n",
    "index_to_char = {i: s for s, i in char_to_idx.items()}\n",
    "\n",
    "names[:5], chars[:5]"
   ]
  },
  {
   "cell_type": "code",
   "execution_count": 3,
   "metadata": {},
   "outputs": [
    {
     "data": {
      "text/plain": [
       "(1, 2, 3, 4, 5)"
      ]
     },
     "execution_count": 3,
     "metadata": {},
     "output_type": "execute_result"
    }
   ],
   "source": [
    "char_to_idx['a'], char_to_idx['b'], char_to_idx['c'], char_to_idx['d'], char_to_idx['e']"
   ]
  },
  {
   "cell_type": "code",
   "execution_count": 4,
   "metadata": {},
   "outputs": [
    {
     "data": {
      "text/plain": [
       "('.', 'a', 'b', 'c', 'd')"
      ]
     },
     "execution_count": 4,
     "metadata": {},
     "output_type": "execute_result"
    }
   ],
   "source": [
    "index_to_char[0], index_to_char[1], index_to_char[2], index_to_char[3], index_to_char[4]"
   ]
  },
  {
   "cell_type": "code",
   "execution_count": 6,
   "metadata": {},
   "outputs": [
    {
     "data": {
      "text/plain": [
       "(torch.Size([228146, 8]), torch.Size([228146]))"
      ]
     },
     "execution_count": 6,
     "metadata": {},
     "output_type": "execute_result"
    }
   ],
   "source": [
    "xs, ys = [], []\n",
    "context_size = 8\n",
    "for name in names:\n",
    "    context = [0] * context_size\n",
    "    for char in name + \".\":\n",
    "        idx = char_to_idx[char]\n",
    "        xs.append(context)\n",
    "        ys.append(idx)\n",
    "        context = context[1:] + [idx]\n",
    "\n",
    "xs, ys = torch.tensor(xs), torch.tensor(ys)\n",
    "xs.shape, ys.shape"
   ]
  },
  {
   "cell_type": "code",
   "execution_count": 7,
   "metadata": {},
   "outputs": [
    {
     "data": {
      "text/plain": [
       "(torch.Size([182516, 8]),\n",
       " torch.Size([182516]),\n",
       " torch.Size([22814, 8]),\n",
       " torch.Size([22814]),\n",
       " torch.Size([22816, 8]),\n",
       " torch.Size([22816]))"
      ]
     },
     "execution_count": 7,
     "metadata": {},
     "output_type": "execute_result"
    }
   ],
   "source": [
    "train_size = int(0.8 * len(xs))\n",
    "dev_size = int(0.1 * len(xs))\n",
    "test_size = len(xs) - train_size - dev_size\n",
    "train_size, dev_size, test_size, train_size + dev_size + test_size\n",
    "\n",
    "idxs_in_random_order = torch.randperm(len(xs))\n",
    "train_idxs = idxs_in_random_order[:train_size]\n",
    "dev_idxs = idxs_in_random_order[train_size:train_size + dev_size]\n",
    "test_idxs = idxs_in_random_order[train_size + dev_size:]\n",
    "\n",
    "train_xs, train_ys = xs[train_idxs], ys[train_idxs]\n",
    "dev_xs, dev_ys = xs[dev_idxs], ys[dev_idxs]\n",
    "test_xs, test_ys = xs[test_idxs], ys[test_idxs]\n",
    "\n",
    "train_xs.shape, train_ys.shape, dev_xs.shape, dev_ys.shape, test_xs.shape, test_ys.shape"
   ]
  },
  {
   "cell_type": "code",
   "execution_count": 84,
   "metadata": {},
   "outputs": [
    {
     "name": "stdout",
     "output_type": "stream",
     "text": [
      "torch.Size([4, 8, 100]) torch.Size([200, 100])\n",
      "torch.Size([4, 4, 200])\n",
      "torch.Size([4, 4, 100])\n",
      "torch.Size([1, 1, 200]) torch.Size([1, 1, 200]) torch.Size([4, 4, 200])\n"
     ]
    }
   ],
   "source": [
    "C = torch.randn((27, 100), generator=g)\n",
    "x = C[train_xs[:4]]\n",
    "w = torch.randn((200, 100), generator=g)\n",
    "print(x.shape, w.shape)\n",
    "# (x.view(-1, context_size // 2, 100 * 2) @ w).shape\n",
    "x = einops.rearrange(\n",
    "    x, \"batch (ctxt_split n_splits) embed -> batch ctxt_split (n_splits embed)\",\n",
    "    ctxt_split=context_size // 2, n_splits=2\n",
    ")\n",
    "print(x.shape)\n",
    "out = einops.einsum(\n",
    "    x, w,\n",
    "    \"batch merged_words in, in out -> batch merged_words out\"\n",
    ")\n",
    "print(out.shape)\n",
    "batch_mean = x.mean(dim=(0, 1), keepdim=True)\n",
    "batch_var = x.var(dim=(0, 1), keepdim=True)\n",
    "x_norm = (x - batch_mean) / torch.sqrt(batch_var + 1e-5)\n",
    "print(batch_mean.shape, batch_var.shape, x_norm.shape)"
   ]
  },
  {
   "cell_type": "code",
   "execution_count": 170,
   "metadata": {},
   "outputs": [],
   "source": [
    "class Linear:\n",
    "    def __init__(self, in_features, out_features, bias=True):\n",
    "        self.W = torch.randn((in_features, out_features), generator=g) / in_features**0.5\n",
    "        self.b = torch.zeros(out_features) if bias else None\n",
    "    \n",
    "    def __call__(self, x):\n",
    "        # self.out = einops.einsum(\n",
    "        #     x, self.W, \n",
    "        #     \"batch ngrams in\" # For 3-d input tensor\n",
    "        #     \"batch in\" # For 2-d input tensor\n",
    "        #     , in out -> batch ngrams out\"\n",
    "        # )\n",
    "        self.out = x @ self.W\n",
    "        if self.b is not None:\n",
    "            self.out += self.b\n",
    "        return self.out\n",
    "    \n",
    "    def parameters(self):\n",
    "        return [self.W] + ([] if self.b is None else [self.b])\n"
   ]
  },
  {
   "cell_type": "code",
   "execution_count": 176,
   "metadata": {},
   "outputs": [],
   "source": [
    "class BatchNorm1d:\n",
    "    def __init__(self, num_features, eps=1e-5, momentum=0.1):\n",
    "        self.gamma = torch.ones(num_features)\n",
    "        self.beta = torch.zeros(num_features)\n",
    "        self.eps = eps\n",
    "        self.momentum = momentum\n",
    "        self.running_mean = torch.zeros(num_features)\n",
    "        self.running_var = torch.ones(num_features)\n",
    "        self.training = True\n",
    "    \n",
    "    def __call__(self, x):\n",
    "        dim = 0 if x.ndim == 2 else (0, 1)\n",
    "        batch_mean = x.mean(dim=dim, keepdim=True) if self.training else self.running_mean\n",
    "        batch_var = x.var(dim=dim, keepdim=True) if self.training else self.running_var\n",
    "        if self.training:\n",
    "            with torch.no_grad():\n",
    "                self.running_mean = (1 - self.momentum) * self.running_mean + self.momentum * batch_mean.squeeze(1)\n",
    "                self.running_var = (1 - self.momentum) * self.running_var + self.momentum * batch_var.squeeze(1)\n",
    "        x_norm = (x - batch_mean) / torch.sqrt(batch_var + self.eps)\n",
    "        self.out = self.gamma * x_norm + self.beta\n",
    "        return self.out\n",
    "    \n",
    "    def parameters(self):\n",
    "        return [self.gamma, self.beta]\n"
   ]
  },
  {
   "cell_type": "code",
   "execution_count": 178,
   "metadata": {},
   "outputs": [],
   "source": [
    "class Embedding:\n",
    "    def __init__(self, num_embeddings, embedding_dim):\n",
    "        self.embeddings = torch.randn((num_embeddings, embedding_dim), generator=g)\n",
    "    \n",
    "    def __call__(self, x):\n",
    "        embeds = self.embeddings[x]\n",
    "        return embeds\n",
    "    \n",
    "    def parameters(self):\n",
    "        return [self.embeddings]\n",
    "    \n",
    "class FlattenConsecutive:\n",
    "    def __init__(self, n):\n",
    "        self.n = n\n",
    "\n",
    "    def __call__(self, x):\n",
    "        self.out = einops.rearrange(\n",
    "            x, \"batch (ctxt_split n) embed -> batch ctxt_split (n embed)\",\n",
    "            ctxt_split=x.shape[1] // self.n, n=self.n\n",
    "        )\n",
    "        if self.out.shape[1] == 1:\n",
    "            self.out = self.out.squeeze(1)\n",
    "        return self.out\n",
    "    \n",
    "    def parameters(self):\n",
    "        return []"
   ]
  },
  {
   "cell_type": "code",
   "execution_count": 179,
   "metadata": {},
   "outputs": [],
   "source": [
    "class Tanh:\n",
    "    def __call__(self, x):\n",
    "        self.out = torch.tanh(x)\n",
    "        return self.out\n",
    "    \n",
    "    def parameters(self):\n",
    "        return []"
   ]
  },
  {
   "cell_type": "code",
   "execution_count": 180,
   "metadata": {},
   "outputs": [],
   "source": [
    "class Sequential:\n",
    "    def __init__(self, vocab_size, embedding_dim, context_size, hidden_size, n=2):\n",
    "        self.layers = [\n",
    "            Embedding(vocab_size, embedding_dim),\n",
    "            FlattenConsecutive(n=n), Linear(n * embedding_dim, hidden_size, bias=False), BatchNorm1d(hidden_size), Tanh(),\n",
    "            FlattenConsecutive(n=n), Linear(n * hidden_size, hidden_size, bias=False), BatchNorm1d(hidden_size), Tanh(),\n",
    "            FlattenConsecutive(n=n), Linear(n * hidden_size, hidden_size, bias=False), BatchNorm1d(hidden_size), Tanh(),\n",
    "            Linear(hidden_size, vocab_size, bias=False), BatchNorm1d(vocab_size)\n",
    "        ]\n",
    "        self.__post_init__()\n",
    "    \n",
    "    def __post_init__(self):\n",
    "        self.layers[-1].gamma *= 0.1\n",
    "        for l in self.layers[:-1]:\n",
    "            if isinstance(l, Linear):\n",
    "                l.W *= 5/3\n",
    "    \n",
    "    def __call__(self, x):\n",
    "        out = x\n",
    "        for l in self.layers:\n",
    "            out = l(out)\n",
    "        return out\n",
    "        \n",
    "    def parameters(self):\n",
    "        return [p for l in self.layers for p in l.parameters()]\n"
   ]
  },
  {
   "cell_type": "code",
   "execution_count": 181,
   "metadata": {},
   "outputs": [
    {
     "name": "stdout",
     "output_type": "stream",
     "text": [
      "22424\n"
     ]
    }
   ],
   "source": [
    "vocab_size = 27\n",
    "embedding_dim = 10\n",
    "context_size = 8\n",
    "hidden_size = 68\n",
    "model = Sequential(vocab_size, embedding_dim, context_size, hidden_size)\n",
    "\n",
    "print(sum(p.numel() for p in model.parameters()))\n",
    "for p in model.parameters():\n",
    "    p.requires_grad = True\n"
   ]
  },
  {
   "cell_type": "code",
   "execution_count": null,
   "metadata": {},
   "outputs": [
    {
     "name": "stdout",
     "output_type": "stream",
     "text": [
      "i=0/200000, loss.item()=2.346043109893799\n",
      "i=10000/200000, loss.item()=2.00773024559021\n",
      "i=20000/200000, loss.item()=2.137181520462036\n",
      "i=30000/200000, loss.item()=2.0259432792663574\n",
      "i=40000/200000, loss.item()=2.1181294918060303\n",
      "i=50000/200000, loss.item()=2.0501835346221924\n",
      "i=60000/200000, loss.item()=1.7826497554779053\n",
      "i=70000/200000, loss.item()=1.9870392084121704\n",
      "i=80000/200000, loss.item()=1.8916015625\n",
      "i=90000/200000, loss.item()=2.4261088371276855\n",
      "i=100000/200000, loss.item()=2.1046555042266846\n",
      "i=110000/200000, loss.item()=1.6911033391952515\n",
      "i=120000/200000, loss.item()=2.0438597202301025\n",
      "i=130000/200000, loss.item()=1.7026625871658325\n",
      "i=140000/200000, loss.item()=2.4187140464782715\n"
     ]
    }
   ],
   "source": [
    "epochs = 200000\n",
    "batch_size = 32\n",
    "losses = []\n",
    "update_to_data_ratio = []\n",
    "for i in range(epochs):\n",
    "    idxs = torch.randint(0, train_xs.shape[0], (batch_size, ), generator=g)\n",
    "    logits = model(train_xs[idxs])\n",
    "    loss = F.cross_entropy(logits, train_ys[idxs])\n",
    "\n",
    "    for p in model.parameters():\n",
    "        p.grad = None\n",
    "    loss.backward()\n",
    "    \n",
    "    lr = 0.1 if i < 100000 else 0.01\n",
    "    for p in model.parameters():\n",
    "        p.data += -lr * p.grad\n",
    "    \n",
    "    losses.append(loss.log10().item())\n",
    "    if i % 10000 == 0:\n",
    "        print(f\"{i=}/{epochs}, {loss.item()=}\")\n",
    "    \n",
    "    with torch.no_grad():\n",
    "        update_to_data_ratio.append([\n",
    "            (lr * p.grad.std() / p.data.std()).log10().item() \n",
    "            for p in model.parameters()\n",
    "        ])\n",
    "    # if i > 1000:    \n",
    "    #     break"
   ]
  },
  {
   "cell_type": "code",
   "execution_count": null,
   "metadata": {},
   "outputs": [
    {
     "data": {
      "text/plain": [
       "[<matplotlib.lines.Line2D at 0x1588198b0>]"
      ]
     },
     "execution_count": 185,
     "metadata": {},
     "output_type": "execute_result"
    },
    {
     "data": {
      "image/png": "[encoded data removed]",
      "text/plain": [
       "<Figure size 640x480 with 1 Axes>"
      ]
     },
     "metadata": {},
     "output_type": "display_data"
    }
   ],
   "source": [
    "plt.plot(torch.tensor(losses).view(-1, 1000).mean(dim=1))"
   ]
  },
  {
   "cell_type": "code",
   "execution_count": 35,
   "metadata": {},
   "outputs": [
    {
     "name": "stdout",
     "output_type": "stream",
     "text": [
      "split_name='train', loss=2.0138068199157715\n",
      "split_name='dev', loss=2.0814733505249023\n"
     ]
    }
   ],
   "source": [
    "@torch.no_grad()  # avoids gradient bookeeping for backward pass\n",
    "def split_loss(split_name: str):\n",
    "    x, y = {\n",
    "        \"train\": (train_xs, train_ys),\n",
    "        \"dev\": (dev_xs, dev_ys),\n",
    "        \"test\": (test_xs, test_ys)\n",
    "    }[split_name]\n",
    "    for l in model.layers:\n",
    "        if isinstance(l, BatchNorm1d):\n",
    "            l.training = False\n",
    "    logits = model(x)\n",
    "    loss = F.cross_entropy(logits, y).item()\n",
    "    print(f\"{split_name=}, {loss=}\")\n",
    "\n",
    "split_loss(\"train\")\n",
    "split_loss(\"dev\")"
   ]
  },
  {
   "cell_type": "code",
   "execution_count": 36,
   "metadata": {},
   "outputs": [
    {
     "name": "stdout",
     "output_type": "stream",
     "text": [
      "kesea.\n",
      "clazia.\n",
      "kmiratel.\n",
      "aparmina.\n",
      "jaylara.\n",
      "jerram.\n",
      "ganatal.\n",
      "iana.\n",
      "yeliz.\n",
      "mirson.\n",
      "myroston.\n",
      "aryz.\n",
      "jelison.\n",
      "weani.\n",
      "grancy.\n",
      "feldon.\n",
      "meeri.\n",
      "mecilio.\n",
      "vaynee.\n",
      "shavier.\n"
     ]
    }
   ],
   "source": [
    "for _ in range(20):\n",
    "    name = \"\"\n",
    "    context = [0] * context_size\n",
    "    while True:\n",
    "        logits = model(torch.tensor(context).unsqueeze(0))\n",
    "        probs = logits.softmax(dim=1)\n",
    "        idx = torch.multinomial(probs, num_samples=1, generator=g).item()\n",
    "        context = context[1:] + [idx]\n",
    "        next_char = index_to_char[idx]\n",
    "        name += next_char\n",
    "        if next_char == \".\":\n",
    "            break\n",
    "    print(name)\n"
   ]
  }
 ],
 "metadata": {
  "kernelspec": {
   "display_name": "mech_interp",
   "language": "python",
   "name": "python3"
  },
  "language_info": {
   "codemirror_mode": {
    "name": "ipython",
    "version": 3
   },
   "file_extension": ".py",
   "mimetype": "text/x-python",
   "name": "python",
   "nbconvert_exporter": "python",
   "pygments_lexer": "ipython3",
   "version": "3.9.21"
  }
 },
 "nbformat": 4,
 "nbformat_minor": 2
}
