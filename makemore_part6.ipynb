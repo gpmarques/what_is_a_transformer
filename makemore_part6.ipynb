{
 "cells": [
  {
   "cell_type": "markdown",
   "metadata": {},
   "source": [
    "makemore_part5 we started applying wavenet with MLPs to our names generator. However the original paper used dilated convolutions. So here we'll:\n",
    "* Understand what are convolutions\n",
    "* Implement a regular convolution layer\n",
    "* Apply it to our names generator"
   ]
  },
  {
   "cell_type": "code",
   "execution_count": 1,
   "metadata": {},
   "outputs": [],
   "source": [
    "import torch\n",
    "from torch.nn import functional as F\n",
    "import matplotlib.pyplot as plt\n",
    "import einops\n",
    "import math\n",
    "\n",
    "g = torch.Generator().manual_seed(2147483647)"
   ]
  },
  {
   "cell_type": "code",
   "execution_count": 2,
   "metadata": {},
   "outputs": [
    {
     "data": {
      "text/plain": [
       "(['emma', 'olivia', 'ava', 'isabella', 'sophia'], ['a', 'b', 'c', 'd', 'e'])"
      ]
     },
     "execution_count": 2,
     "metadata": {},
     "output_type": "execute_result"
    }
   ],
   "source": [
    "names = list((open('data/names/names.txt', 'r').read().splitlines()))\n",
    "\n",
    "chars = sorted(set(''.join(names)))\n",
    "char_to_idx = {s: i for i, s in enumerate(['.'] + chars)}\n",
    "index_to_char = {i: s for s, i in char_to_idx.items()}\n",
    "\n",
    "names[:5], chars[:5]"
   ]
  },
  {
   "cell_type": "code",
   "execution_count": 3,
   "metadata": {},
   "outputs": [
    {
     "data": {
      "text/plain": [
       "(torch.Size([228146, 8]), torch.Size([228146]))"
      ]
     },
     "execution_count": 3,
     "metadata": {},
     "output_type": "execute_result"
    }
   ],
   "source": [
    "xs, ys = [], []\n",
    "context_size = 8\n",
    "for name in names:\n",
    "    context = [0] * context_size\n",
    "    for char in name + \".\":\n",
    "        idx = char_to_idx[char]\n",
    "        xs.append(context)\n",
    "        ys.append(idx)\n",
    "        context = context[1:] + [idx]\n",
    "\n",
    "xs, ys = torch.tensor(xs), torch.tensor(ys)\n",
    "xs.shape, ys.shape"
   ]
  },
  {
   "cell_type": "code",
   "execution_count": 4,
   "metadata": {},
   "outputs": [
    {
     "data": {
      "text/plain": [
       "(torch.Size([182516, 8]),\n",
       " torch.Size([182516]),\n",
       " torch.Size([22814, 8]),\n",
       " torch.Size([22814]),\n",
       " torch.Size([22816, 8]),\n",
       " torch.Size([22816]))"
      ]
     },
     "execution_count": 4,
     "metadata": {},
     "output_type": "execute_result"
    }
   ],
   "source": [
    "train_size = int(0.8 * len(xs))\n",
    "dev_size = int(0.1 * len(xs))\n",
    "test_size = len(xs) - train_size - dev_size\n",
    "train_size, dev_size, test_size, train_size + dev_size + test_size\n",
    "\n",
    "idxs_in_random_order = torch.randperm(len(xs))\n",
    "train_idxs = idxs_in_random_order[:train_size]\n",
    "dev_idxs = idxs_in_random_order[train_size:train_size + dev_size]\n",
    "test_idxs = idxs_in_random_order[train_size + dev_size:]\n",
    "\n",
    "train_xs, train_ys = xs[train_idxs], ys[train_idxs]\n",
    "dev_xs, dev_ys = xs[dev_idxs], ys[dev_idxs]\n",
    "test_xs, test_ys = xs[test_idxs], ys[test_idxs]\n",
    "\n",
    "train_xs.shape, train_ys.shape, dev_xs.shape, dev_ys.shape, test_xs.shape, test_ys.shape"
   ]
  },
  {
   "cell_type": "code",
   "execution_count": 5,
   "metadata": {},
   "outputs": [],
   "source": [
    "class Linear:\n",
    "    def __init__(self, in_features, out_features, bias=True):\n",
    "        self.W = torch.randn((in_features, out_features), generator=g) / in_features**0.5\n",
    "        self.b = torch.zeros(out_features) if bias else None\n",
    "    \n",
    "    def __call__(self, x):\n",
    "        self.out = x @ self.W\n",
    "        if self.b is not None:\n",
    "            self.out += self.b\n",
    "        return self.out\n",
    "    \n",
    "    def parameters(self):\n",
    "        return [self.W] + ([] if self.b is None else [self.b])\n"
   ]
  },
  {
   "cell_type": "code",
   "execution_count": 6,
   "metadata": {},
   "outputs": [],
   "source": [
    "class BatchNorm1d:\n",
    "    def __init__(self, num_features, eps=1e-5, momentum=0.1):\n",
    "        self.gamma = torch.ones(num_features)\n",
    "        self.beta = torch.zeros(num_features)\n",
    "        self.eps = eps\n",
    "        self.momentum = momentum\n",
    "        self.running_mean = torch.zeros(num_features)\n",
    "        self.running_var = torch.ones(num_features)\n",
    "        self.training = True\n",
    "    \n",
    "    def __call__(self, x):\n",
    "        dim = 0 if x.ndim == 2 else (0, 1)\n",
    "        batch_mean = x.mean(dim=dim, keepdim=True) if self.training else self.running_mean\n",
    "        batch_var = x.var(dim=dim, keepdim=True) if self.training else self.running_var\n",
    "        if self.training:\n",
    "            with torch.no_grad():\n",
    "                self.running_mean = (1 - self.momentum) * self.running_mean + self.momentum * batch_mean.squeeze(1)\n",
    "                self.running_var = (1 - self.momentum) * self.running_var + self.momentum * batch_var.squeeze(1)\n",
    "        x_norm = (x - batch_mean) / torch.sqrt(batch_var + self.eps)\n",
    "        self.out = self.gamma * x_norm + self.beta\n",
    "        return self.out\n",
    "    \n",
    "    def parameters(self):\n",
    "        return [self.gamma, self.beta]\n"
   ]
  },
  {
   "cell_type": "code",
   "execution_count": 7,
   "metadata": {},
   "outputs": [],
   "source": [
    "class Embedding:\n",
    "    def __init__(self, num_embeddings, embedding_dim):\n",
    "        self.embeddings = torch.randn((num_embeddings, embedding_dim))\n",
    "    \n",
    "    def __call__(self, x):\n",
    "        self.out = self.embeddings[x]\n",
    "        return self.out\n",
    "    \n",
    "    def parameters(self):\n",
    "        return [self.embeddings]\n",
    "\n",
    "class Flatten:\n",
    "    def __call__(self, x):\n",
    "        self.out = einops.rearrange(x, \"batch context embed -> batch (context embed)\")\n",
    "        return self.out\n",
    "\n",
    "    def parameters(self):\n",
    "        return []"
   ]
  },
  {
   "cell_type": "code",
   "execution_count": 8,
   "metadata": {},
   "outputs": [],
   "source": [
    "class Tanh:\n",
    "    def __call__(self, x):\n",
    "        self.out = torch.tanh(x)\n",
    "        return self.out\n",
    "    \n",
    "    def parameters(self):\n",
    "        return []"
   ]
  },
  {
   "cell_type": "markdown",
   "metadata": {},
   "source": [
    "So far we've only seen MLPs, or fully connected layers. Which is a stack of linear layers each followed by a non-linearity. Here each previous layer's neurons connects to every neuron of the next layer. \n"
   ]
  },
  {
   "cell_type": "code",
   "execution_count": 9,
   "metadata": {},
   "outputs": [
    {
     "name": "stdout",
     "output_type": "stream",
     "text": [
      "torch.Size([27, 10]) torch.Size([4, 8]) torch.Size([4, 8, 10]) torch.Size([4, 80])\n",
      "torch.Size([4, 80]) torch.Size([80, 100]) torch.Size([4, 100])\n"
     ]
    }
   ],
   "source": [
    "vocab_size, embed_dim = 27, 10\n",
    "C = torch.randn(vocab_size, embed_dim)\n",
    "batch_size, context_length = 4, 8\n",
    "x = torch.randint(0, vocab_size, (batch_size, context_length))\n",
    "embeds = C[x]\n",
    "flatten = embeds.view(batch_size, embed_dim * context_length)\n",
    "print(C.shape, x.shape, embeds.shape, flatten.shape)\n",
    "\n",
    "in_f, out_f = 80, 100\n",
    "W = torch.randn(in_f, out_f)\n",
    "# remember: every out element is a linear combination of the inputs and weights\n",
    "out = flatten @ W\n",
    "# equivalent to, for visualization purposes\n",
    "assert (out == einops.einsum(\n",
    "    flatten, W, 'batch concat_embeds, concat_embeds hidden_size -> batch hidden_size'\n",
    ")).all()\n",
    "print(flatten.shape, W.shape ,out.shape)\n"
   ]
  },
  {
   "cell_type": "markdown",
   "metadata": {},
   "source": [
    "Here's where convolutions are different. Each neuron of the current layer receives inputs only from a subset of the neurons of the previous layers.\n",
    "\n",
    "A convolution layer achieves this by applying a kernel. The kernel is a n-dim tensor. In our example below, we'll use a 2d 1x2 tensor. Moreover, apply a kernel means to slide the kernel over the input tensor and perform a sliding dot product. "
   ]
  },
  {
   "cell_type": "code",
   "execution_count": 10,
   "metadata": {},
   "outputs": [
    {
     "name": "stdout",
     "output_type": "stream",
     "text": [
      "kernel=tensor([[ 1.3832, -0.6430]]), kernel.shape=torch.Size([1, 2])\n",
      "x=tensor([[ 0.0128, -0.4103, -3.8032,  0.3607]]), x.shape=torch.Size([1, 4])\n",
      "tensor([ 0.0128, -0.4103])\n",
      "out_11=tensor([0.2816]), out_12=tensor([1.8778]), out_13=tensor([-5.4924])\n",
      "out=tensor([ 0.2816,  1.8778, -5.4924]), out.shape=torch.Size([3])\n"
     ]
    }
   ],
   "source": [
    "# k = [1, 2]\n",
    "# x = [4, 5, 6, 7]\n",
    "# 1st slide = [1*4, 2*5].sum() = 1*4 + 2*5 = 14\n",
    "# k = [1, 2]\n",
    "# ..., 5, 6, 7, ...\n",
    "# 2nd slide = [1*5, 2*6].sum() = 1*5 + 2*6 = 17\n",
    "# k = [1, 2]\n",
    "# ..., 6, 7] = [1*6, 2*7].sum() = 1*6 + 2*7 = 20\n",
    "# out = [14, 17, 20]\n",
    "# So far the output tensor is [32, 37]\n",
    "\n",
    "kernel = torch.randn(1, 2)\n",
    "x = torch.randn(1, 4)\n",
    "print(f\"{kernel=}, {kernel.shape=}\")\n",
    "print(f\"{x=}, {x.shape=}\")\n",
    "print(x[0, :2])\n",
    "out_11 = x[0, :2] @ kernel.t()\n",
    "out_12 = x[0, 1:3] @ kernel.t()\n",
    "out_13 = x[0, 2:4] @ kernel.t()\n",
    "out = torch.cat([out_11, out_12, out_13], dim=0)\n",
    "print(f\"{out_11=}, {out_12=}, {out_13=}\")\n",
    "print(f\"{out=}, {out.shape=}\")"
   ]
  },
  {
   "cell_type": "markdown",
   "metadata": {},
   "source": [
    "So above we applied a kernel of shape 1x2 to a tensor of shape 1x4, outputting a tensor of shape 1x3. Why is that? \n",
    "\n",
    "If you think about it, we can slide the kernel over the input tensor in different ways. The way you slide the kernel can be affected by the stride, dilation and padding.\n",
    "\n",
    "Let's talk first about stride. Stride controls how far the kernel moves between each computation. In our example above we used stride=1, meaning the kernel moved 1 index to the right between each computation.\n",
    "\n",
    "Here we aligned the 1st index of the kernel with the 1st index of the input tensor, computed the dot product and repeated the process for the next index of the input. In general we did:\n",
    "* os = []\n",
    "* for each i in input tensor:\n",
    "  * os.append(input[i:i+kernel.shape[1]] @ kernel.t())\n",
    "* out = torch.cat(os, dim=0)\n",
    "\n",
    "The stride is very important because it controls the size of the output tensor. How many times can we slide the kernel over the input tensor?\n",
    "* First let's compute the distance the kernel can move over the input tensor.\n",
    "  * distance = x.shape[1] - kernel.shape[1]\n",
    "* Now let's compute how many times we can slide the kernel over the distance\n",
    "  * num_slides = distance // stride\n",
    "* We also need to add 1 to account for the initial position of the kernel.\n",
    "  * num_slides = (distance // stride) + 1\n",
    "* So the output tensor will have num_slides elements, where each slide is the sliding dot product.\n",
    "\n",
    "\n"
   ]
  },
  {
   "cell_type": "code",
   "execution_count": 11,
   "metadata": {},
   "outputs": [
    {
     "name": "stdout",
     "output_type": "stream",
     "text": [
      "x.shape[1]=4, kernel.shape[1]=2\n",
      "dist = x.shape[1] - kernel.shape[1] = 2\n",
      "num_slides = (dist // 1) = 2\n",
      "out_size = num_slides + 1 = 3\n"
     ]
    }
   ],
   "source": [
    "print(f\"{x.shape[1]=}, {kernel.shape[1]=}\")\n",
    "dist = x.shape[1] - kernel.shape[1]\n",
    "print(f\"dist = {x.shape[1] - kernel.shape[1] = }\")\n",
    "num_slides = (dist // 1)\n",
    "print(f\"num_slides = {(dist // 1) = }\")\n",
    "out_size = num_slides + 1\n",
    "print(f\"out_size = {num_slides + 1 = }\")"
   ]
  },
  {
   "cell_type": "markdown",
   "metadata": {},
   "source": [
    "However, this example is the trivial case, where the number of input features and output features are equal to 1. So what if we have in_features = 2 and out_features = 2 as well?\n",
    "* An interesting way to think about the kernel of shape (out_features, in_features, kernel_size) is that you have:\n",
    "    * For each output feature, a tensor of shape (in_features, kernel_size), that you'll slide over your input "
   ]
  },
  {
   "cell_type": "code",
   "execution_count": 113,
   "metadata": {},
   "outputs": [
    {
     "name": "stdout",
     "output_type": "stream",
     "text": [
      "kernel.shape=torch.Size([2, 2, 2])\n",
      "x.shape=torch.Size([1, 4, 2])\n"
     ]
    }
   ],
   "source": [
    "import torch\n",
    "\n",
    "# Create a kernel with shape [out_features, in_features, kernel_size]\n",
    "kernel = torch.tensor([\n",
    "    # Output feature 0\n",
    "    [[1.0, 2.0],  # Weights for input feature 0\n",
    "     [0.5, 1.5]], # Weights for input feature 1\n",
    "    \n",
    "    # Output feature 1\n",
    "    [[0.1, 0.2],  # Weights for input feature 0\n",
    "     [1.1, 1.2]]  # Weights for input feature 1\n",
    "])\n",
    "\n",
    "# Input with shape [batch_size, seq_length, in_features]\n",
    "x = torch.tensor([\n",
    "    # Batch item 0\n",
    "    [\n",
    "        [4.0, 0.4],     # Input feature 0, Input feature 1 at sequence position 0\n",
    "        [5.0, 0.5],     # Input feature 0, Input feature 1 at sequence position 1\n",
    "        [6.0, 0.6],     # Input feature 0, Input feature 1 at sequence position 2  \n",
    "        [7.0, 0.7]      # Input feature 0, Input feature 1 at sequence position 3\n",
    "    ]\n",
    "])\n",
    "\n",
    "print(f\"{kernel.shape=}\")  # Should be torch.Size([2, 2, 2])\n",
    "print(f\"{x.shape=}\")       # Should be torch.Size([1, 2, 4])"
   ]
  },
  {
   "cell_type": "code",
   "execution_count": 64,
   "metadata": {},
   "outputs": [
    {
     "name": "stdout",
     "output_type": "stream",
     "text": [
      "Manual calculation for output feature 0, position 0: 14.949999809265137\n",
      "Manual calculation for output feature 0, position 1: 18.149999618530273\n",
      "Manual calculation for output feature 0, position 2: 21.350000381469727\n",
      "Manual calculation for output feature 1, position 0: 2.440000057220459\n",
      "Manual calculation for output feature 1, position 1: 2.9700000286102295\n",
      "Manual calculation for output feature 1, position 2: 3.5\n",
      "Final output shape: torch.Size([1, 3, 2])\n",
      "Final output: tensor([[[14.9500,  2.4400],\n",
      "         [18.1500,  2.9700],\n",
      "         [21.3500,  3.5000]]])\n",
      "PyTorch Conv1d output: tensor([[[14.9500, 18.1500, 21.3500],\n",
      "         [ 2.4400,  2.9700,  3.5000]]], grad_fn=<ConvolutionBackward0>)\n",
      "PyTorch Conv1d output shape: torch.Size([1, 2, 3])\n"
     ]
    }
   ],
   "source": [
    "# Let's compute the convolution manually for output feature 0\n",
    "# Position 0:\n",
    "# - Input feature 0: [4.0, 5.0] @ [1.0, 2.0] = 4.0*1.0 + 5.0*2.0 = 14.0\n",
    "# - Input feature 1: [0.4, 0.5] @ [0.5, 1.5] = 0.4*0.5 + 0.5*1.5 = 0.95\n",
    "# - Sum across features: 14.0 + 0.95 = 14.95\n",
    "\n",
    "out_00 = (x[0, :2, 0] @ kernel[0, 0]) + (x[0, :2, 1] @ kernel[0, 1])\n",
    "assert  (x[0, :2, :] * kernel[0, :, :].T).sum() == out_00\n",
    "\n",
    "# Position 1:\n",
    "# - Input feature 0: [5.0, 6.0] @ [1.0, 2.0] = 5.0*1.0 + 6.0*2.0 = 17.0\n",
    "# - Input feature 1: [0.5, 0.6] @ [0.5, 1.5] = 0.5*0.5 + 0.6*1.5 = 1.15\n",
    "# - Sum across features: 17.0 + 1.15 = 18.15\n",
    "\n",
    "out_10 = (x[0, 1:3, 0] @ kernel[0, 0]) + (x[0, 1:3, 1] @ kernel[0, 1])\n",
    "assert  (x[0, 1:3, :] * kernel[0, :, :].T).sum() == out_10\n",
    "# Position 2:\n",
    "# - Input feature 0: [6.0, 7.0] @ [1.0, 2.0] = 6.0*1.0 + 7.0*2.0 = 20.0\n",
    "# - Input feature 1: [0.6, 0.7] @ [0.5, 1.5] = 0.6*0.5 + 0.7*1.5 = 1.35\n",
    "# - Sum across features: 20.0 + 1.35 = 21.35\n",
    "\n",
    "out_20 = (x[0, 2:4, 0] @ kernel[0, 0]) + (x[0, 2:4, 1] @ kernel[0, 1])\n",
    "assert torch.isclose((x[0, 2:4, :].T * kernel[0, :, :]).sum(), out_20)\n",
    "# Now let's compute for output channel 1\n",
    "# Position 0:\n",
    "# - Input channel 0: [4.0, 5.0] @ [0.1, 0.2] = 4.0*0.1 + 5.0*0.2 = 1.4\n",
    "# - Input channel 1: [0.4, 0.5] @ [1.1, 1.2] = 0.4*1.1 + 0.5*1.2 = 1.04\n",
    "# - Sum across channels: 1.4 + 1.04 = 2.44\n",
    "\n",
    "out_01 = (x[0, :2, 0] @ kernel[1, 0]) + (x[0, :2, 1] @ kernel[1, 1])\n",
    "assert  (x[0, :2, :] * kernel[1, :, :].T).sum() == out_01\n",
    "\n",
    "# Position 1:\n",
    "# - Input channel 0: [5.0, 6.0] @ [0.1, 0.2] = 5.0*0.1 + 6.0*0.2 = 1.7\n",
    "# - Input channel 1: [0.5, 0.6] @ [1.1, 1.2] = 0.5*1.1 + 0.6*1.2 = 1.27\n",
    "# - Sum across channels: 1.7 + 1.27 = 2.97\n",
    "\n",
    "out_11 = (x[0, 1:3, 0] @ kernel[1, 0]) + (x[0, 1:3, 1] @ kernel[1, 1])\n",
    "assert  (x[0, 1:3, :] * kernel[1, :, :].T).sum() == out_11\n",
    "# Position 2:\n",
    "# - Input channel 0: [6.0, 7.0] @ [0.1, 0.2] = 6.0*0.1 + 7.0*0.2 = 2.0\n",
    "# - Input channel 1: [0.6, 0.7] @ [1.1, 1.2] = 0.6*1.1 + 0.7*1.2 = 1.5\n",
    "# - Sum across channels: 2.0 + 1.5 = 3.5\n",
    "\n",
    "out_21 = (x[0, 2:4, 0] @ kernel[1, 0]) + (x[0, 2:4, 1] @ kernel[1, 1])\n",
    "assert  (x[0, 2:4, :] * kernel[1, :, :].T).sum() == out_21\n",
    "\n",
    "# Combine all outputs into the final output tensor [batch_size, out_channels, output_length]\n",
    "out_seq0 = torch.tensor([out_00, out_01])\n",
    "out_seq1 = torch.tensor([out_10, out_11])\n",
    "out_seq2 = torch.tensor([out_20, out_21])\n",
    "output = torch.stack([out_seq0, out_seq1, out_seq2], dim=0).unsqueeze(0)\n",
    "\n",
    "print(f\"Manual calculation for output feature 0, position 0: {out_00}\")\n",
    "print(f\"Manual calculation for output feature 0, position 1: {out_10}\")\n",
    "print(f\"Manual calculation for output feature 0, position 2: {out_20}\")\n",
    "print(f\"Manual calculation for output feature 1, position 0: {out_01}\")\n",
    "print(f\"Manual calculation for output feature 1, position 1: {out_11}\")\n",
    "print(f\"Manual calculation for output feature 1, position 2: {out_21}\")\n",
    "print(f\"Final output shape: {output.shape}\")\n",
    "print(f\"Final output: {output}\")\n",
    "\n",
    "# Compare with PyTorch's Conv1d\n",
    "conv1d = torch.nn.Conv1d(in_channels=2, out_channels=2, kernel_size=2, stride=1, bias=False)\n",
    "with torch.no_grad():\n",
    "    # Set the weights to our kernel values\n",
    "    conv1d.weight = torch.nn.Parameter(kernel)\n",
    "    \n",
    "pytorch_output = conv1d(x.transpose(1, 2))\n",
    "print(f\"PyTorch Conv1d output: {pytorch_output}\")\n",
    "print(f\"PyTorch Conv1d output shape: {pytorch_output.shape}\")\n",
    "\n",
    "assert (output.transpose(1, 2) == pytorch_output).all()"
   ]
  },
  {
   "cell_type": "code",
   "execution_count": 74,
   "metadata": {},
   "outputs": [
    {
     "name": "stdout",
     "output_type": "stream",
     "text": [
      "Manual output shape: torch.Size([1, 3, 2])\n",
      "Manual output:\n",
      "tensor([[[14.9500,  2.4400],\n",
      "         [18.1500,  2.9700],\n",
      "         [21.3500,  3.5000]]])\n",
      "\n",
      "PyTorch output shape: torch.Size([1, 2, 3])\n",
      "PyTorch output:\n",
      "tensor([[[14.9500, 18.1500, 21.3500],\n",
      "         [ 2.4400,  2.9700,  3.5000]]], grad_fn=<ConvolutionBackward0>)\n",
      "\n",
      "Outputs match: True\n"
     ]
    }
   ],
   "source": [
    "\n",
    "import torch\n",
    "\n",
    "def conv1d_with_loops(\n",
    "    x: torch.Tensor, kernel: torch.Tensor, stride: int = 1\n",
    ") -> torch.Tensor:\n",
    "    \"\"\"\n",
    "    Manual implementation of 1D convolution using for loops\n",
    "    \n",
    "    Args:\n",
    "        x: Input tensor of shape [batch_size, in_length, in_features]\n",
    "        kernel: Weight tensor of shape [out_features, in_features, kernel_size]\n",
    "        stride: Stride for the convolution (default=1)\n",
    "    \n",
    "    Returns:\n",
    "        Output tensor of shape [batch_size, out_features, out_length]\n",
    "    \"\"\"\n",
    "    batch_size, in_length, _ = x.shape\n",
    "    out_features, _, kernel_size = kernel.shape\n",
    "    # Calculate output length\n",
    "    out_length = (in_length - kernel_size) // stride + 1    \n",
    "    # Initialize output tensor with zeros\n",
    "    output = torch.zeros(batch_size, out_length, out_features)\n",
    "    \n",
    "    # Convolution\n",
    "    for b in range(batch_size):              \n",
    "        for op in range(out_length):\n",
    "            for fan_out in range(out_features):        \n",
    "                # Calculate the starting position in the input\n",
    "                in_start = op * stride  # starting position in the input sequence\n",
    "                in_end = in_start + kernel_size  # ending position in the input sequence\n",
    "                output[b, op, fan_out] = (\n",
    "                    x[b, in_start: in_end, :] *\n",
    "                    kernel[fan_out, :, :].T\n",
    "                ).sum()\n",
    "    return output\n",
    "\n",
    "# Run our manual convolution\n",
    "manual_output = conv1d_with_loops(x, kernel)\n",
    "print(f\"Manual output shape: {manual_output.shape}\")\n",
    "print(f\"Manual output:\\n{manual_output}\")\n",
    "\n",
    "# Compare with PyTorch's Conv1d\n",
    "conv1d = torch.nn.Conv1d(in_channels=2, out_channels=2, kernel_size=2, stride=1, bias=False)\n",
    "with torch.no_grad():\n",
    "    # Set the weights to our kernel values\n",
    "    conv1d.weight = torch.nn.Parameter(kernel)\n",
    "    \n",
    "pytorch_output = conv1d(x.transpose(1, 2))\n",
    "print(f\"\\nPyTorch output shape: {pytorch_output.shape}\")\n",
    "print(f\"PyTorch output:\\n{pytorch_output}\")\n",
    "\n",
    "# Verify they match\n",
    "print(f\"\\nOutputs match: {torch.allclose(manual_output.transpose(1, 2), pytorch_output)}\")"
   ]
  },
  {
   "cell_type": "code",
   "execution_count": 76,
   "metadata": {},
   "outputs": [],
   "source": [
    "class Conv1D:\n",
    "    def __init__(self, out_features, in_features, kernel_size, stride=1):\n",
    "        self.kernel = torch.randn((out_features, in_features, kernel_size))        \n",
    "        self.kernel_size = kernel_size\n",
    "        self.stride = stride\n",
    "            \n",
    "    def __call__(self, x):\n",
    "        batch_size, in_length, _ = x.shape\n",
    "        out_features, _, kernel_size = self.kernel.shape\n",
    "        out_length = (in_length - kernel_size) // self.stride + 1    \n",
    "        self.out = torch.zeros(batch_size, out_length, out_features)\n",
    "        \n",
    "        # Convolution\n",
    "        for b in range(batch_size):              \n",
    "            for op in range(out_length):\n",
    "                for fan_out in range(out_features):        \n",
    "                    # Calculate the starting position in the input\n",
    "                    in_start = op * self.stride  # starting position in the input sequence\n",
    "                    in_end = in_start + self.kernel_size  # ending position in the input sequence\n",
    "                    self.out[b, op, fan_out] = (\n",
    "                        x[b, in_start: in_end, :] *\n",
    "                        self.kernel[fan_out, :, :].T\n",
    "                    ).sum()\n",
    "        return self.out\n",
    "    \n",
    "    def parameters(self):\n",
    "        # Similar to nn.Module.parameters() for optimizer compatibility\n",
    "        return [self.kernel]"
   ]
  },
  {
   "cell_type": "code",
   "execution_count": 124,
   "metadata": {},
   "outputs": [],
   "source": [
    "class Conv1D:\n",
    "    def __init__(self, out_features, in_features, kernel_size, stride=1):\n",
    "        self.kernel = torch.randn((out_features, in_features, kernel_size))        \n",
    "        self.kernel_size = kernel_size\n",
    "        self.stride = stride\n",
    "            \n",
    "    def __call__(self, x):\n",
    "        batch_size, in_length, in_features = x.shape\n",
    "        out_features, _, kernel_size = self.kernel.shape\n",
    "        out_length = (in_length - kernel_size) // self.stride + 1\n",
    "        \n",
    "        # Prepare input for convolution with unfold\n",
    "        # Unfold along the sequence dimension (dim=1)\n",
    "        # This creates a tensor of shape [batch_size, out_length, in_features * kernel_size]\n",
    "        unfolded = F.unfold(\n",
    "            x.transpose(1, 2).unsqueeze(-1),  # Convert to [batch, channels, length, 1] for unfold\n",
    "            kernel_size=(kernel_size, 1),\n",
    "            stride=(self.stride, 1)\n",
    "        )\n",
    "        unfolded = unfolded.transpose(1, 2)\n",
    "        \n",
    "        # Reshape kernel for matrix multiplication\n",
    "        reshaped_kernel = self.kernel.view(out_features, in_features * kernel_size)\n",
    "        \n",
    "        # Perform batched matrix multiplication\n",
    "        # [batch_size, out_length, in_features * kernel_size] @ [out_features, in_features * kernel_size]ᵀ\n",
    "        # = [batch_size, out_length, out_features]\n",
    "        out = unfolded @ reshaped_kernel.t()\n",
    "        \n",
    "        return out\n",
    "    \n",
    "    def parameters(self):\n",
    "        return [self.kernel]"
   ]
  },
  {
   "cell_type": "code",
   "execution_count": 125,
   "metadata": {},
   "outputs": [
    {
     "name": "stdout",
     "output_type": "stream",
     "text": [
      "torch.Size([1, 4, 2])\n",
      "tensor([[[4.0000, 0.4000],\n",
      "         [5.0000, 0.5000],\n",
      "         [6.0000, 0.6000],\n",
      "         [7.0000, 0.7000]]])\n",
      "torch conv1d weights: torch.Size([2, 2, 2])\n",
      "my conv1d weights: torch.Size([2, 2, 2])\n"
     ]
    },
    {
     "data": {
      "text/plain": [
       "(torch.Size([1, 2, 3]), torch.Size([1, 3, 2]))"
      ]
     },
     "execution_count": 125,
     "metadata": {},
     "output_type": "execute_result"
    }
   ],
   "source": [
    "import torch\n",
    "from torch.nn import Conv1d\n",
    "\n",
    "# x = torch.randn(32, 8, 100)\n",
    "print(x.shape)\n",
    "print(x)\n",
    "conv1d = Conv1d(in_channels=2, out_channels=2, kernel_size=2, stride=1)\n",
    "myconv1d = Conv1D(out_features=2, in_features=2, kernel_size=2, stride=1)\n",
    "print(f\"torch conv1d weights: {conv1d.weight.shape}\")\n",
    "print(f\"my conv1d weights: {myconv1d.parameters()[0].shape}\")\n",
    "conv1d(x.view(1, 2, 4)).shape, myconv1d(x).shape"
   ]
  },
  {
   "cell_type": "code",
   "execution_count": 126,
   "metadata": {},
   "outputs": [],
   "source": [
    "class Sequential:\n",
    "    def __init__(self, vocab_size, embedding_dim, context_size, hidden_size):\n",
    "        self.layers = [\n",
    "            Embedding(vocab_size, embedding_dim),\n",
    "            Conv1D(out_features=hidden_size, in_features=embedding_dim, kernel_size=3, stride=1), \n",
    "            BatchNorm1d(hidden_size),\n",
    "            Tanh(),\n",
    "            Conv1D(out_features=hidden_size, in_features=hidden_size, kernel_size=3, stride=1), \n",
    "            BatchNorm1d(hidden_size),\n",
    "            Tanh(),\n",
    "            Flatten(),\n",
    "            Linear(embedding_dim * 6, vocab_size, bias=False),\n",
    "            BatchNorm1d(vocab_size),\n",
    "        ]\n",
    "        self.__post_init__()\n",
    "    \n",
    "    def __post_init__(self):\n",
    "        self.layers[-1].gamma *= 0.1\n",
    "        for l in self.layers[:-1]:\n",
    "            if isinstance(l, Linear):\n",
    "                l.W *= 5/3\n",
    "    \n",
    "    def __call__(self, x):\n",
    "        out = x\n",
    "        for l in self.layers:\n",
    "            out = l(out)\n",
    "        return out\n",
    "        \n",
    "    def parameters(self):\n",
    "        return [p for l in self.layers for p in l.parameters()]\n"
   ]
  },
  {
   "cell_type": "code",
   "execution_count": 127,
   "metadata": {},
   "outputs": [
    {
     "name": "stdout",
     "output_type": "stream",
     "text": [
      "2264\n"
     ]
    }
   ],
   "source": [
    "\n",
    "vocab_size = 27\n",
    "embedding_dim = 10\n",
    "context_size = 8\n",
    "hidden_size = 100\n",
    "model = Sequential(vocab_size, embedding_dim, context_size, hidden_size)\n",
    "\n",
    "print(sum(p.numel() for p in model.parameters()))\n",
    "for p in model.parameters():\n",
    "    p.requires_grad = True\n"
   ]
  },
  {
   "cell_type": "code",
   "execution_count": 131,
   "metadata": {},
   "outputs": [
    {
     "name": "stdout",
     "output_type": "stream",
     "text": [
      "i=0/200000, loss.item()=2.783571720123291\n",
      "i=10000/200000, loss.item()=2.368117094039917\n",
      "i=20000/200000, loss.item()=2.0874593257904053\n",
      "i=30000/200000, loss.item()=2.353965997695923\n",
      "i=40000/200000, loss.item()=2.099008083343506\n",
      "i=50000/200000, loss.item()=1.9820741415023804\n",
      "i=60000/200000, loss.item()=2.145350694656372\n",
      "i=70000/200000, loss.item()=1.8965859413146973\n",
      "i=80000/200000, loss.item()=2.669018268585205\n",
      "i=90000/200000, loss.item()=2.1637661457061768\n",
      "i=100000/200000, loss.item()=2.569265604019165\n",
      "i=110000/200000, loss.item()=2.0002996921539307\n",
      "i=120000/200000, loss.item()=2.0805020332336426\n",
      "i=130000/200000, loss.item()=2.028130531311035\n",
      "i=140000/200000, loss.item()=2.2631187438964844\n",
      "i=150000/200000, loss.item()=2.200932025909424\n",
      "i=160000/200000, loss.item()=2.3248724937438965\n",
      "i=170000/200000, loss.item()=2.1231529712677\n",
      "i=180000/200000, loss.item()=2.561711072921753\n",
      "i=190000/200000, loss.item()=2.460749864578247\n"
     ]
    }
   ],
   "source": [
    "epochs = 200000\n",
    "batch_size = 32\n",
    "losses = []\n",
    "update_to_data_ratio = []\n",
    "for i in range(epochs):\n",
    "    idxs = torch.randint(0, train_xs.shape[0], (batch_size, ), generator=g)\n",
    "    logits = model(train_xs[idxs])\n",
    "    loss = F.cross_entropy(logits, train_ys[idxs])\n",
    "\n",
    "    for p in model.parameters():\n",
    "        p.grad = None\n",
    "    loss.backward()\n",
    "    \n",
    "    lr = 0.1 if i < 100000 else 0.01\n",
    "    for p in model.parameters():\n",
    "        p.data += -lr * p.grad\n",
    "    \n",
    "    losses.append(loss.log10().item())\n",
    "    if i % 10000 == 0:\n",
    "        print(f\"{i=}/{epochs}, {loss.item()=}\")\n",
    "    \n",
    "    with torch.no_grad():\n",
    "        update_to_data_ratio.append([\n",
    "            (lr * p.grad.std() / p.data.std()).log10().item() \n",
    "            for p in model.parameters()\n",
    "        ])\n",
    "    # break\n",
    "    # if i > 1000:    \n",
    "    #     break"
   ]
  },
  {
   "cell_type": "code",
   "execution_count": 132,
   "metadata": {},
   "outputs": [
    {
     "data": {
      "text/plain": [
       "[<matplotlib.lines.Line2D at 0x177c21c70>]"
      ]
     },
     "execution_count": 132,
     "metadata": {},
     "output_type": "execute_result"
    },
    {
     "data": {
      "image/png": "[encoded data removed]",
      "text/plain": [
       "<Figure size 640x480 with 1 Axes>"
      ]
     },
     "metadata": {},
     "output_type": "display_data"
    }
   ],
   "source": [
    "plt.plot(torch.tensor(losses).view(-1, 1000).mean(dim=1))\n",
    "# plt.plot(torch.tensor(losses[:-2]).view(-1, 100).mean(dim=1))"
   ]
  },
  {
   "cell_type": "code",
   "execution_count": 133,
   "metadata": {},
   "outputs": [
    {
     "name": "stdout",
     "output_type": "stream",
     "text": [
      "split_name='train', loss=2.1942806243896484\n",
      "split_name='dev', loss=2.2035934925079346\n"
     ]
    }
   ],
   "source": [
    "@torch.no_grad()  # avoids gradient bookeeping for backward pass\n",
    "def split_loss(split_name: str):\n",
    "    x, y = {\n",
    "        \"train\": (train_xs, train_ys),\n",
    "        \"dev\": (dev_xs, dev_ys),\n",
    "        \"test\": (test_xs, test_ys)\n",
    "    }[split_name]\n",
    "    for l in model.layers:\n",
    "        if isinstance(l, BatchNorm1d):\n",
    "            l.training = False\n",
    "    logits = model(x)\n",
    "    loss = F.cross_entropy(logits, y).item()\n",
    "    print(f\"{split_name=}, {loss=}\")\n",
    "\n",
    "split_loss(\"train\")\n",
    "split_loss(\"dev\")"
   ]
  },
  {
   "cell_type": "code",
   "execution_count": 134,
   "metadata": {},
   "outputs": [
    {
     "name": "stdout",
     "output_type": "stream",
     "text": [
      "Layer 3 outs: mean=+0.035035, std=6.104411e-01, saturation=12.90%\n"
     ]
    },
    {
     "data": {
      "image/png": "[encoded data removed]",
      "text/plain": [
       "<Figure size 2000x400 with 1 Axes>"
      ]
     },
     "metadata": {},
     "output_type": "display_data"
    }
   ],
   "source": [
    "plt.figure(figsize=(20, 4))\n",
    "legends = []\n",
    "for i, l in enumerate(model.layers):\n",
    "    if isinstance(l, Tanh):\n",
    "        t = l.out\n",
    "        mean, std = t.mean().item(), t.std().item()\n",
    "        saturation = ((t.abs() > .97).float().mean() * 100).item()\n",
    "        print(f\"Layer {i} outs: mean={mean:+f}, std={std:e}, saturation={saturation:.2f}%\")\n",
    "        ty, tx = torch.histogram(t, density=True)\n",
    "        plt.plot(tx[:-1].detach(), ty.detach())\n",
    "        legends.append(f\"Layer {i} {l.__class__.__name__}\")\n",
    "plt.legend(legends);"
   ]
  },
  {
   "cell_type": "code",
   "execution_count": 136,
   "metadata": {},
   "outputs": [
    {
     "name": "stdout",
     "output_type": "stream",
     "text": [
      "cikxhn.\n",
      "soxyah.\n",
      "zamdia.\n",
      "koslerp.\n",
      "jantowe.\n",
      "mandir.\n",
      "rumi.\n",
      "iniapha.\n",
      "jinon.\n",
      "corkan.\n",
      "wamaleya.\n",
      "arlenni.\n",
      "samay.\n",
      "bryger.\n",
      "kaltonn.\n",
      "rocquyne.\n",
      "jeeira.\n",
      "laxeaz.\n",
      "kaonia.\n",
      "bogane.\n"
     ]
    }
   ],
   "source": [
    "for _ in range(20):\n",
    "    name = \"\"\n",
    "    context = [0] * context_size\n",
    "    while True:\n",
    "        logits = model(torch.tensor(context).unsqueeze(0))\n",
    "        probs = logits.softmax(dim=1)\n",
    "        idx = torch.multinomial(probs, num_samples=1, generator=g).item()\n",
    "        context = context[1:] + [idx]\n",
    "        next_char = index_to_char[idx]\n",
    "        name += next_char\n",
    "        if next_char == \".\":\n",
    "            break\n",
    "    print(name)\n"
   ]
  }
 ],
 "metadata": {
  "kernelspec": {
   "display_name": "mech_interp",
   "language": "python",
   "name": "python3"
  },
  "language_info": {
   "codemirror_mode": {
    "name": "ipython",
    "version": 3
   },
   "file_extension": ".py",
   "mimetype": "text/x-python",
   "name": "python",
   "nbconvert_exporter": "python",
   "pygments_lexer": "ipython3",
   "version": "3.9.21"
  }
 },
 "nbformat": 4,
 "nbformat_minor": 2
}
