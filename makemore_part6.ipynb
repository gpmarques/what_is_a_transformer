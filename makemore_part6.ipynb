{
 "cells": [
  {
   "cell_type": "markdown",
   "metadata": {},
   "source": [
    "makemore_part5 we started applying wavenet with MLPs to our names generator. However the original paper used dilated convolutions. So here we'll:\n",
    "* Understand what are convolutions\n",
    "* Implement a regular convolution layer\n",
    "* Apply it to our names generator"
   ]
  },
  {
   "cell_type": "code",
   "execution_count": 25,
   "metadata": {},
   "outputs": [],
   "source": [
    "import torch\n",
    "from torch.nn import functional as F\n",
    "import matplotlib.pyplot as plt\n",
    "import einops\n",
    "import math\n",
    "\n",
    "g = torch.Generator().manual_seed(2147483647)"
   ]
  },
  {
   "cell_type": "code",
   "execution_count": 26,
   "metadata": {},
   "outputs": [
    {
     "data": {
      "text/plain": [
       "(['emma', 'olivia', 'ava', 'isabella', 'sophia'], ['a', 'b', 'c', 'd', 'e'])"
      ]
     },
     "execution_count": 26,
     "metadata": {},
     "output_type": "execute_result"
    }
   ],
   "source": [
    "names = list((open('data/names/names.txt', 'r').read().splitlines()))\n",
    "\n",
    "chars = sorted(set(''.join(names)))\n",
    "char_to_idx = {s: i for i, s in enumerate(['.'] + chars)}\n",
    "index_to_char = {i: s for s, i in char_to_idx.items()}\n",
    "\n",
    "names[:5], chars[:5]"
   ]
  },
  {
   "cell_type": "code",
   "execution_count": 27,
   "metadata": {},
   "outputs": [
    {
     "data": {
      "text/plain": [
       "(torch.Size([228146, 8]), torch.Size([228146]))"
      ]
     },
     "execution_count": 27,
     "metadata": {},
     "output_type": "execute_result"
    }
   ],
   "source": [
    "xs, ys = [], []\n",
    "context_size = 8\n",
    "for name in names:\n",
    "    context = [0] * context_size\n",
    "    for char in name + \".\":\n",
    "        idx = char_to_idx[char]\n",
    "        xs.append(context)\n",
    "        ys.append(idx)\n",
    "        context = context[1:] + [idx]\n",
    "\n",
    "xs, ys = torch.tensor(xs), torch.tensor(ys)\n",
    "xs.shape, ys.shape"
   ]
  },
  {
   "cell_type": "code",
   "execution_count": 28,
   "metadata": {},
   "outputs": [
    {
     "data": {
      "text/plain": [
       "(torch.Size([182516, 8]),\n",
       " torch.Size([182516]),\n",
       " torch.Size([22814, 8]),\n",
       " torch.Size([22814]),\n",
       " torch.Size([22816, 8]),\n",
       " torch.Size([22816]))"
      ]
     },
     "execution_count": 28,
     "metadata": {},
     "output_type": "execute_result"
    }
   ],
   "source": [
    "train_size = int(0.8 * len(xs))\n",
    "dev_size = int(0.1 * len(xs))\n",
    "test_size = len(xs) - train_size - dev_size\n",
    "train_size, dev_size, test_size, train_size + dev_size + test_size\n",
    "\n",
    "idxs_in_random_order = torch.randperm(len(xs))\n",
    "train_idxs = idxs_in_random_order[:train_size]\n",
    "dev_idxs = idxs_in_random_order[train_size:train_size + dev_size]\n",
    "test_idxs = idxs_in_random_order[train_size + dev_size:]\n",
    "\n",
    "train_xs, train_ys = xs[train_idxs], ys[train_idxs]\n",
    "dev_xs, dev_ys = xs[dev_idxs], ys[dev_idxs]\n",
    "test_xs, test_ys = xs[test_idxs], ys[test_idxs]\n",
    "\n",
    "train_xs.shape, train_ys.shape, dev_xs.shape, dev_ys.shape, test_xs.shape, test_ys.shape"
   ]
  },
  {
   "cell_type": "code",
   "execution_count": 29,
   "metadata": {},
   "outputs": [],
   "source": [
    "class Linear:\n",
    "    def __init__(self, in_features, out_features, bias=True):\n",
    "        self.W = torch.randn((in_features, out_features), generator=g) / in_features**0.5\n",
    "        self.b = torch.zeros(out_features) if bias else None\n",
    "    \n",
    "    def __call__(self, x):\n",
    "        self.out = x @ self.W\n",
    "        if self.b is not None:\n",
    "            self.out += self.b\n",
    "        return self.out\n",
    "    \n",
    "    def parameters(self):\n",
    "        return [self.W] + ([] if self.b is None else [self.b])\n"
   ]
  },
  {
   "cell_type": "code",
   "execution_count": 30,
   "metadata": {},
   "outputs": [],
   "source": [
    "class BatchNorm1d:\n",
    "    def __init__(self, num_features, eps=1e-5, momentum=0.1):\n",
    "        self.gamma = torch.ones(num_features)\n",
    "        self.beta = torch.zeros(num_features)\n",
    "        self.eps = eps\n",
    "        self.momentum = momentum\n",
    "        self.running_mean = torch.zeros(num_features)\n",
    "        self.running_var = torch.ones(num_features)\n",
    "        self.training = True\n",
    "    \n",
    "    def __call__(self, x):\n",
    "        dim = 0 if x.ndim == 2 else (0, 1)\n",
    "        batch_mean = x.mean(dim=dim, keepdim=True) if self.training else self.running_mean\n",
    "        batch_var = x.var(dim=dim, keepdim=True) if self.training else self.running_var\n",
    "        if self.training:\n",
    "            with torch.no_grad():\n",
    "                self.running_mean = (1 - self.momentum) * self.running_mean + self.momentum * batch_mean.squeeze(1)\n",
    "                self.running_var = (1 - self.momentum) * self.running_var + self.momentum * batch_var.squeeze(1)\n",
    "        x_norm = (x - batch_mean) / torch.sqrt(batch_var + self.eps)\n",
    "        self.out = self.gamma * x_norm + self.beta\n",
    "        return self.out\n",
    "    \n",
    "    def parameters(self):\n",
    "        return [self.gamma, self.beta]\n"
   ]
  },
  {
   "cell_type": "code",
   "execution_count": 31,
   "metadata": {},
   "outputs": [],
   "source": [
    "class Embedding:\n",
    "    def __init__(self, num_embeddings, embedding_dim):\n",
    "        self.embeddings = torch.randn((num_embeddings, embedding_dim))\n",
    "    \n",
    "    def __call__(self, x):\n",
    "        self.out = self.embeddings[x]\n",
    "        return self.out\n",
    "    \n",
    "    def parameters(self):\n",
    "        return [self.embeddings]\n",
    "\n",
    "class Flatten:\n",
    "    def __call__(self, x):\n",
    "        self.out = einops.rearrange(x, \"batch context embed -> batch (context embed)\")\n",
    "        return self.out\n",
    "\n",
    "    def parameters(self):\n",
    "        return []"
   ]
  },
  {
   "cell_type": "code",
   "execution_count": 32,
   "metadata": {},
   "outputs": [],
   "source": [
    "class Tanh:\n",
    "    def __call__(self, x):\n",
    "        self.out = torch.tanh(x)\n",
    "        return self.out\n",
    "    \n",
    "    def parameters(self):\n",
    "        return []"
   ]
  },
  {
   "cell_type": "markdown",
   "metadata": {},
   "source": [
    "So far we've only seen MLPs, or fully connected layers. Which is a stack of linear layers each followed by a non-linearity. Here each previous layer's neurons connects to every neuron of the next layer. \n"
   ]
  },
  {
   "cell_type": "code",
   "execution_count": 33,
   "metadata": {},
   "outputs": [
    {
     "name": "stdout",
     "output_type": "stream",
     "text": [
      "torch.Size([27, 10]) torch.Size([4, 8]) torch.Size([4, 8, 10]) torch.Size([4, 80])\n",
      "torch.Size([4, 80]) torch.Size([80, 100]) torch.Size([4, 100])\n"
     ]
    }
   ],
   "source": [
    "vocab_size, embed_dim = 27, 10\n",
    "C = torch.randn(vocab_size, embed_dim)\n",
    "batch_size, context_length = 4, 8\n",
    "x = torch.randint(0, vocab_size, (batch_size, context_length))\n",
    "embeds = C[x]\n",
    "flatten = embeds.view(batch_size, embed_dim * context_length)\n",
    "print(C.shape, x.shape, embeds.shape, flatten.shape)\n",
    "\n",
    "in_f, out_f = 80, 100\n",
    "W = torch.randn(in_f, out_f)\n",
    "# remember: every out element is a linear combination of the inputs and weights\n",
    "out = flatten @ W\n",
    "# equivalent to, for visualization purposes\n",
    "assert (out == einops.einsum(\n",
    "    flatten, W, 'batch concat_embeds, concat_embeds hidden_size -> batch hidden_size'\n",
    ")).all()\n",
    "print(flatten.shape, W.shape ,out.shape)\n"
   ]
  },
  {
   "cell_type": "markdown",
   "metadata": {},
   "source": [
    "Here's where convolutions are different. Each neuron of the current layer receives inputs only from a subset of the neurons of the previous layers.\n",
    "\n",
    "A convolution layer achieves this by applying a kernel. The kernel is a n-dim tensor. In our example below, we'll use a 2d 1x2 tensor. Moreover, apply a kernel means to slide the kernel over the input tensor and perform a sliding dot product. "
   ]
  },
  {
   "cell_type": "code",
   "execution_count": 34,
   "metadata": {},
   "outputs": [
    {
     "name": "stdout",
     "output_type": "stream",
     "text": [
      "kernel=tensor([[-0.4358, -0.3110]]), kernel.shape=torch.Size([1, 2])\n",
      "x=tensor([[-0.3339, -0.3899,  2.0090, -1.2359]]), x.shape=torch.Size([1, 4])\n",
      "tensor([-0.3339, -0.3899])\n",
      "out_11=tensor([0.2668]), out_12=tensor([-0.4548]), out_13=tensor([-0.4912])\n",
      "out=tensor([ 0.2668, -0.4548, -0.4912]), out.shape=torch.Size([3])\n"
     ]
    }
   ],
   "source": [
    "# k = [1, 2]\n",
    "# x = [4, 5, 6, 7]\n",
    "# 1st slide = [1*4, 2*5].sum() = 1*4 + 2*5 = 14\n",
    "# k = [1, 2]\n",
    "# ..., 5, 6, 7, ...\n",
    "# 2nd slide = [1*5, 2*6].sum() = 1*5 + 2*6 = 17\n",
    "# k = [1, 2]\n",
    "# ..., 6, 7] = [1*6, 2*7].sum() = 1*6 + 2*7 = 20\n",
    "# out = [14, 17, 20]\n",
    "# So far the output tensor is [32, 37]\n",
    "\n",
    "kernel = torch.randn(1, 2)\n",
    "x = torch.randn(1, 4)\n",
    "print(f\"{kernel=}, {kernel.shape=}\")\n",
    "print(f\"{x=}, {x.shape=}\")\n",
    "print(x[0, :2])\n",
    "out_11 = x[0, :2] @ kernel.t()\n",
    "out_12 = x[0, 1:3] @ kernel.t()\n",
    "out_13 = x[0, 2:4] @ kernel.t()\n",
    "out = torch.cat([out_11, out_12, out_13], dim=0)\n",
    "print(f\"{out_11=}, {out_12=}, {out_13=}\")\n",
    "print(f\"{out=}, {out.shape=}\")"
   ]
  },
  {
   "cell_type": "markdown",
   "metadata": {},
   "source": [
    "So above we applied a kernel of shape 1x2 to a tensor of shape 1x4, outputting a tensor of shape 1x3. Why is that? \n",
    "\n",
    "If you think about it, we can slide the kernel over the input tensor in different ways. The way you slide the kernel can be affected by the stride, dilation and padding.\n",
    "\n",
    "Let's talk first about stride. Stride controls how far the kernel moves between each computation. In our example above we used stride=1, meaning the kernel moved 1 index to the right between each computation.\n",
    "\n",
    "Here we aligned the 1st index of the kernel with the 1st index of the input tensor, computed the dot product and repeated the process for the next index of the input. In general we did:\n",
    "* os = []\n",
    "* for each i in input tensor:\n",
    "  * os.append(input[i:i+kernel.shape[1]] @ kernel.t())\n",
    "* out = torch.cat(os, dim=0)\n",
    "\n",
    "The stride is very important because it controls the size of the output tensor. How many times can we slide the kernel over the input tensor?\n",
    "* First let's compute the distance the kernel can move over the input tensor.\n",
    "  * distance = x.shape[1] - kernel.shape[1]\n",
    "* Now let's compute how many times we can slide the kernel over the distance\n",
    "  * num_slides = distance // stride\n",
    "* We also need to add 1 to account for the initial position of the kernel.\n",
    "  * num_slides = (distance // stride) + 1\n",
    "* So the output tensor will have num_slides elements, where each slide is the sliding dot product.\n",
    "\n",
    "\n"
   ]
  },
  {
   "cell_type": "code",
   "execution_count": 35,
   "metadata": {},
   "outputs": [
    {
     "name": "stdout",
     "output_type": "stream",
     "text": [
      "dist = x.shape[1] - kernel.shape[1] = 2\n",
      "num_slides = (dist // 1) = 2\n",
      "out_size = num_slides + 1 = 3\n"
     ]
    }
   ],
   "source": [
    "dist = x.shape[1] - kernel.shape[1]\n",
    "print(f\"dist = {x.shape[1] - kernel.shape[1] = }\")\n",
    "num_slides = (dist // 1)\n",
    "print(f\"num_slides = {(dist // 1) = }\")\n",
    "out_size = num_slides + 1\n",
    "print(f\"out_size = {num_slides + 1 = }\")"
   ]
  },
  {
   "cell_type": "markdown",
   "metadata": {},
   "source": [
    "However, this example is the trivial case, where the number of input features and output features are equal to 1. So what if we have a in_features = 2 and out_features = 2 as well?"
   ]
  },
  {
   "cell_type": "code",
   "execution_count": 100,
   "metadata": {},
   "outputs": [
    {
     "name": "stdout",
     "output_type": "stream",
     "text": [
      "kernel.shape=torch.Size([2, 2, 2])\n",
      "x.shape=torch.Size([1, 4, 2])\n"
     ]
    }
   ],
   "source": [
    "import torch\n",
    "\n",
    "# Create a kernel with shape [out_features, in_features, kernel_size]\n",
    "kernel = torch.tensor([\n",
    "    # Output feature 0\n",
    "    [[1.0, 2.0],  # Weights for input feature 0\n",
    "     [0.5, 1.5]], # Weights for input feature 1\n",
    "    \n",
    "    # Output feature 1\n",
    "    [[0.1, 0.2],  # Weights for input feature 0\n",
    "     [1.1, 1.2]]  # Weights for input feature 1\n",
    "])\n",
    "\n",
    "# # Input with shape [batch_size, in_features, seq_length]\n",
    "# x = torch.tensor([\n",
    "#     # Batch item 0\n",
    "#     [[4.0, 5.0, 6.0, 7.0],     # Input feature 0\n",
    "#      [0.4, 0.5, 0.6, 0.7]]     # Input feature 1\n",
    "#     # w1   w2   w3   w4\n",
    "# ])\n",
    "\n",
    "# Input with shape [batch_size, seq_length, in_features]\n",
    "x = torch.tensor([\n",
    "    # Batch item 0\n",
    "    [\n",
    "        [4.0, 0.4],     # Input feature 0, Input feature 1 at sequence position 0\n",
    "        [5.0, 0.5],     # Input feature 0, Input feature 1 at sequence position 1\n",
    "        [6.0, 0.6],     # Input feature 0, Input feature 1 at sequence position 2  \n",
    "        [7.0, 0.7]      # Input feature 0, Input feature 1 at sequence position 3\n",
    "    ]\n",
    "])\n",
    "\n",
    "print(f\"{kernel.shape=}\")  # Should be torch.Size([2, 2, 2])\n",
    "print(f\"{x.shape=}\")       # Should be torch.Size([1, 2, 4])"
   ]
  },
  {
   "cell_type": "code",
   "execution_count": 116,
   "metadata": {},
   "outputs": [
    {
     "name": "stdout",
     "output_type": "stream",
     "text": [
      "Manual calculation for output feature 0, position 0: 14.949999809265137\n",
      "Manual calculation for output feature 0, position 1: 18.149999618530273\n",
      "Manual calculation for output feature 0, position 2: 21.350000381469727\n",
      "Manual calculation for output feature 1, position 0: 2.440000057220459\n",
      "Manual calculation for output feature 1, position 1: 2.9700000286102295\n",
      "Manual calculation for output feature 1, position 2: 3.5\n",
      "Final output shape: torch.Size([1, 3, 2])\n",
      "Final output: tensor([[[14.9500,  2.4400],\n",
      "         [18.1500,  2.9700],\n",
      "         [21.3500,  3.5000]]])\n",
      "PyTorch Conv1d output: tensor([[[14.9500, 18.1500, 21.3500],\n",
      "         [ 2.4400,  2.9700,  3.5000]]], grad_fn=<ConvolutionBackward0>)\n",
      "PyTorch Conv1d output shape: torch.Size([1, 2, 3])\n"
     ]
    }
   ],
   "source": [
    "# Let's compute the convolution manually for output feature 0\n",
    "# Position 0:\n",
    "# - Input feature 0: [4.0, 5.0] @ [1.0, 2.0] = 4.0*1.0 + 5.0*2.0 = 14.0\n",
    "# - Input feature 1: [0.4, 0.5] @ [0.5, 1.5] = 0.4*0.5 + 0.5*1.5 = 0.95\n",
    "# - Sum across features: 14.0 + 0.95 = 14.95\n",
    "\n",
    "out_00 = (x[0, :2, 0] @ kernel[0, 0]) + (x[0, :2, 1] @ kernel[0, 1])\n",
    "\n",
    "# Position 1:\n",
    "# - Input feature 0: [5.0, 6.0] @ [1.0, 2.0] = 5.0*1.0 + 6.0*2.0 = 17.0\n",
    "# - Input feature 1: [0.5, 0.6] @ [0.5, 1.5] = 0.5*0.5 + 0.6*1.5 = 1.15\n",
    "# - Sum across features: 17.0 + 1.15 = 18.15\n",
    "\n",
    "out_10 = (x[0, 1:3, 0] @ kernel[0, 0]) + (x[0, 1:3, 1] @ kernel[0, 1])\n",
    "\n",
    "# Position 2:\n",
    "# - Input feature 0: [6.0, 7.0] @ [1.0, 2.0] = 6.0*1.0 + 7.0*2.0 = 20.0\n",
    "# - Input feature 1: [0.6, 0.7] @ [0.5, 1.5] = 0.6*0.5 + 0.7*1.5 = 1.35\n",
    "# - Sum across features: 20.0 + 1.35 = 21.35\n",
    "\n",
    "out_20 = (x[0, 2:4, 0] @ kernel[0, 0]) + (x[0, 2:4, 1] @ kernel[0, 1])\n",
    "\n",
    "# Now let's compute for output channel 1\n",
    "# Position 0:\n",
    "# - Input channel 0: [4.0, 5.0] @ [0.1, 0.2] = 4.0*0.1 + 5.0*0.2 = 1.4\n",
    "# - Input channel 1: [0.4, 0.5] @ [1.1, 1.2] = 0.4*1.1 + 0.5*1.2 = 1.04\n",
    "# - Sum across channels: 1.4 + 1.04 = 2.44\n",
    "\n",
    "out_01 = (x[0, :2, 0] @ kernel[1, 0]) + (x[0, :2, 1] @ kernel[1, 1])\n",
    "\n",
    "# Position 1:\n",
    "# - Input channel 0: [5.0, 6.0] @ [0.1, 0.2] = 5.0*0.1 + 6.0*0.2 = 1.7\n",
    "# - Input channel 1: [0.5, 0.6] @ [1.1, 1.2] = 0.5*1.1 + 0.6*1.2 = 1.27\n",
    "# - Sum across channels: 1.7 + 1.27 = 2.97\n",
    "\n",
    "out_11 = (x[0, 1:3, 0] @ kernel[1, 0]) + (x[0, 1:3, 1] @ kernel[1, 1])\n",
    "\n",
    "# Position 2:\n",
    "# - Input channel 0: [6.0, 7.0] @ [0.1, 0.2] = 6.0*0.1 + 7.0*0.2 = 2.0\n",
    "# - Input channel 1: [0.6, 0.7] @ [1.1, 1.2] = 0.6*1.1 + 0.7*1.2 = 1.5\n",
    "# - Sum across channels: 2.0 + 1.5 = 3.5\n",
    "\n",
    "out_21 = (x[0, 2:4, 0] @ kernel[1, 0]) + (x[0, 2:4, 1] @ kernel[1, 1])\n",
    "\n",
    "# Combine all outputs into the final output tensor [batch_size, out_channels, output_length]\n",
    "out_seq0 = torch.tensor([out_00, out_01])\n",
    "out_seq1 = torch.tensor([out_10, out_11])\n",
    "out_seq2 = torch.tensor([out_20, out_21])\n",
    "output = torch.stack([out_seq0, out_seq1, out_seq2], dim=0).unsqueeze(0)\n",
    "\n",
    "print(f\"Manual calculation for output feature 0, position 0: {out_00}\")\n",
    "print(f\"Manual calculation for output feature 0, position 1: {out_10}\")\n",
    "print(f\"Manual calculation for output feature 0, position 2: {out_20}\")\n",
    "print(f\"Manual calculation for output feature 1, position 0: {out_01}\")\n",
    "print(f\"Manual calculation for output feature 1, position 1: {out_11}\")\n",
    "print(f\"Manual calculation for output feature 1, position 2: {out_21}\")\n",
    "print(f\"Final output shape: {output.shape}\")\n",
    "print(f\"Final output: {output}\")\n",
    "\n",
    "# Compare with PyTorch's Conv1d\n",
    "conv1d = torch.nn.Conv1d(in_channels=2, out_channels=2, kernel_size=2, stride=1, bias=False)\n",
    "with torch.no_grad():\n",
    "    # Set the weights to our kernel values\n",
    "    conv1d.weight = torch.nn.Parameter(kernel)\n",
    "    \n",
    "pytorch_output = conv1d(x.transpose(1, 2))\n",
    "print(f\"PyTorch Conv1d output: {pytorch_output}\")\n",
    "print(f\"PyTorch Conv1d output shape: {pytorch_output.shape}\")\n",
    "\n",
    "assert (output.transpose(1, 2) == pytorch_output).all()"
   ]
  },
  {
   "cell_type": "code",
   "execution_count": 119,
   "metadata": {},
   "outputs": [
    {
     "name": "stdout",
     "output_type": "stream",
     "text": [
      "Manual output shape: torch.Size([1, 3, 2])\n",
      "Manual output:\n",
      "tensor([[[14.9500,  2.4400],\n",
      "         [18.1500,  2.9700],\n",
      "         [21.3500,  3.5000]]])\n",
      "\n",
      "PyTorch output shape: torch.Size([1, 2, 3])\n",
      "PyTorch output:\n",
      "tensor([[[14.9500, 18.1500, 21.3500],\n",
      "         [ 2.4400,  2.9700,  3.5000]]], grad_fn=<ConvolutionBackward0>)\n",
      "\n",
      "Outputs match: True\n"
     ]
    }
   ],
   "source": [
    "\n",
    "import torch\n",
    "\n",
    "def conv1d_with_loops(\n",
    "    x: torch.Tensor, kernel: torch.Tensor, stride: int = 1\n",
    ") -> torch.Tensor:\n",
    "    \"\"\"\n",
    "    Manual implementation of 1D convolution using for loops\n",
    "    \n",
    "    Args:\n",
    "        x: Input tensor of shape [batch_size, in_length, in_features]\n",
    "        kernel: Weight tensor of shape [out_features, in_features, kernel_size]\n",
    "        stride: Stride for the convolution (default=1)\n",
    "    \n",
    "    Returns:\n",
    "        Output tensor of shape [batch_size, out_features, out_length]\n",
    "    \"\"\"\n",
    "    batch_size, in_length, in_features = x.shape\n",
    "    out_features, _, kernel_size = kernel.shape\n",
    "    \n",
    "    # Calculate output length\n",
    "    out_length = (in_length - kernel_size) // stride + 1\n",
    "    \n",
    "    # Initialize output tensor with zeros\n",
    "    output = torch.zeros(batch_size, out_length, out_features)\n",
    "    \n",
    "    # Convolution\n",
    "    for b in range(batch_size):                   \n",
    "        for op in range(out_length):              \n",
    "            for fan_out in range(out_features):        \n",
    "                # Calculate the starting position in the input\n",
    "                in_start = op * stride\n",
    "                \n",
    "                # Initialize sum for this output position\n",
    "                position_sum = 0.0\n",
    "                \n",
    "                # Sum over all input features and kernel positions\n",
    "                for fan_in in range(in_features):     # For each input feature\n",
    "                    for kp in range(kernel_size): # For each kernel position\n",
    "                        # Get the input value and corresponding kernel weight\n",
    "                        seq_idx = in_start + kp  # slide the kernel over the input\n",
    "                        in_value = x[b, seq_idx, fan_in]\n",
    "                        weight = kernel[fan_out, fan_in, kp]\n",
    "                        \n",
    "                        # Add to the sum\n",
    "                        position_sum += in_value * weight\n",
    "                \n",
    "                # Set the output value\n",
    "                output[b, op, fan_out] = position_sum\n",
    "    \n",
    "    return output\n",
    "\n",
    "# Run our manual convolution\n",
    "manual_output = conv1d_with_loops(x, kernel)\n",
    "print(f\"Manual output shape: {manual_output.shape}\")\n",
    "print(f\"Manual output:\\n{manual_output}\")\n",
    "\n",
    "# Compare with PyTorch's Conv1d\n",
    "conv1d = torch.nn.Conv1d(in_channels=2, out_channels=2, kernel_size=2, stride=1, bias=False)\n",
    "with torch.no_grad():\n",
    "    # Set the weights to our kernel values\n",
    "    conv1d.weight = torch.nn.Parameter(kernel)\n",
    "    \n",
    "pytorch_output = conv1d(x.transpose(1, 2))\n",
    "print(f\"\\nPyTorch output shape: {pytorch_output.shape}\")\n",
    "print(f\"PyTorch output:\\n{pytorch_output}\")\n",
    "\n",
    "# Verify they match\n",
    "print(f\"\\nOutputs match: {torch.allclose(manual_output.transpose(1, 2), pytorch_output)}\")"
   ]
  },
  {
   "cell_type": "markdown",
   "metadata": {},
   "source": [
    "We did the sliding dot product in a naive way and proposed a for loop. However we can use a neurons computation to do it more efficiently.\n",
    "\n",
    "* y = sigma(x @ W + b) --> For the fully connected layer we had a weight matrix W like:\n",
    "  * x = [\n",
    "    [x11, x12, x13, x14],\n",
    "  ] 1x4\n",
    "    * W = [\n",
    "    [w11], \n",
    "    [w21],\n",
    "    [w31],\n",
    "    [w41]\n",
    "  ] 4x1\n",
    "* For the convolutional layer we if we have a kernel of shape 1x2 K = [[w11, w12]], we can create a weight matrix W of shape 3x3 like:\n",
    "  * W = [\n",
    "    [w11, w12, 0, 0],\n",
    "    [0, w11, w12, 0],\n",
    "    [0, 0, w11, w12]\n",
    "  ] 3x4  \n",
    "  * y = [\n",
    "    [x11 * w11 + x12 * w12],\n",
    "    [x12 * w11 + x13 * w12],\n",
    "    [x13 * w11 + x14 * w12]\n",
    "  ] 3x1"
   ]
  },
  {
   "cell_type": "code",
   "execution_count": 178,
   "metadata": {},
   "outputs": [],
   "source": [
    "def create_conv1d_matrix(kernel, in_length, stride=1):\n",
    "    \"\"\"\n",
    "    Create a matrix that implements 1D convolution through matrix multiplication\n",
    "    \n",
    "    Args:\n",
    "        kernel: Weight tensor of shape [out_features, in_features, kernel_size]\n",
    "        in_length: Length of the input sequence\n",
    "        stride: Convolution stride\n",
    "    \n",
    "    Returns:\n",
    "        W matrix that can be used for matmul\n",
    "    \"\"\"\n",
    "    out_features, in_features, kernel_size = kernel.shape\n",
    "    out_length = (in_length - kernel_size) // stride + 1\n",
    "    \n",
    "    # Create matrix of shape [in_length * in_features, out_features * out_length]\n",
    "    # The key fix is here - we need in_length * in_features rows, not in_features * kernel_size\n",
    "    W = torch.zeros(in_length * in_features, out_features * out_length)\n",
    "    \n",
    "    # Fill the matrix with kernel values\n",
    "    for of in range(out_features):\n",
    "        for op in range(out_length):\n",
    "            for if_ in range(in_features):\n",
    "                for k in range(kernel_size):\n",
    "                    # Calculate the input position based on output position and stride\n",
    "                    in_pos = op * stride + k\n",
    "                    \n",
    "                    # Row in W corresponds to (input_position, input_feature)\n",
    "                    row = in_pos * in_features + if_\n",
    "                    \n",
    "                    # Column in W corresponds to (output_feature, output_position)\n",
    "                    col = of * out_length + op\n",
    "                    \n",
    "                    # Set the weight\n",
    "                    if row < W.shape[0]:  # Make sure we don't go out of bounds\n",
    "                        W[row, col] = kernel[of, if_, k]\n",
    "    \n",
    "    return W\n",
    "\n",
    "def conv1d_with_matrix(x, kernel, stride=1):\n",
    "    \"\"\"\n",
    "    Perform 1D convolution using matrix multiplication\n",
    "    \n",
    "    Args:\n",
    "        x: Input tensor of shape [batch_size, in_length, in_features]\n",
    "        kernel: Weight tensor of shape [out_features, in_features, kernel_size]\n",
    "        stride: Stride for the convolution\n",
    "    \n",
    "    Returns:\n",
    "        Output tensor of shape [batch_size, out_length, out_features]\n",
    "    \"\"\"\n",
    "    batch_size, in_length, _ = x.shape\n",
    "    out_features, _, kernel_size = kernel.shape\n",
    "    out_length = (in_length - kernel_size) // stride + 1\n",
    "    \n",
    "    # Create the weight matrix\n",
    "    W = create_conv1d_matrix(kernel, in_length, stride)\n",
    "    \n",
    "    # Reshape input to [batch_size, in_length * in_features]\n",
    "    x_reshaped = x.reshape(batch_size, -1)\n",
    "    \n",
    "    # Perform matrix multiplication\n",
    "    # Result has shape [batch_size, out_features * out_length]\n",
    "    result = x_reshaped @ W\n",
    "    \n",
    "    # Reshape result to [batch_size, out_length, out_features]\n",
    "    output = result.reshape(batch_size, out_length, out_features)\n",
    "    \n",
    "    return output"
   ]
  },
  {
   "cell_type": "code",
   "execution_count": 179,
   "metadata": {},
   "outputs": [
    {
     "name": "stdout",
     "output_type": "stream",
     "text": [
      "Manual output shape: torch.Size([1, 3, 2])\n",
      "Manual output:\n",
      "tensor([[[14.9500, 18.1500],\n",
      "         [21.3500,  2.4400],\n",
      "         [ 2.9700,  3.5000]]])\n",
      "\n",
      "PyTorch output shape: torch.Size([1, 2, 3])\n",
      "PyTorch output:\n",
      "tensor([[[14.9500, 18.1500, 21.3500],\n",
      "         [ 2.4400,  2.9700,  3.5000]]], grad_fn=<ConvolutionBackward0>)\n",
      "\n",
      "Outputs match: False\n"
     ]
    }
   ],
   "source": [
    "manual_output = conv1d_with_matrix(x, kernel)\n",
    "print(f\"Manual output shape: {manual_output.shape}\")\n",
    "print(f\"Manual output:\\n{manual_output}\")\n",
    "\n",
    "# Compare with PyTorch's Conv1d\n",
    "conv1d = torch.nn.Conv1d(in_channels=2, out_channels=2, kernel_size=2, stride=1, bias=False)\n",
    "with torch.no_grad():\n",
    "    # Set the weights to our kernel values\n",
    "    conv1d.weight = torch.nn.Parameter(kernel)\n",
    "    \n",
    "pytorch_output = conv1d(x.transpose(1, 2))\n",
    "print(f\"\\nPyTorch output shape: {pytorch_output.shape}\")\n",
    "print(f\"PyTorch output:\\n{pytorch_output}\")\n",
    "\n",
    "# Verify they match\n",
    "print(f\"\\nOutputs match: {torch.allclose(manual_output.transpose(1, 2), pytorch_output)}\")"
   ]
  },
  {
   "cell_type": "code",
   "execution_count": 166,
   "metadata": {},
   "outputs": [
    {
     "name": "stdout",
     "output_type": "stream",
     "text": [
      "out_features = 2\n",
      "in_features = 2\n",
      "output_length = 3\n",
      "kernel_size = 2\n",
      "input_length = 4\n",
      "stride = 1\n",
      "conv_matrix.shape = torch.Size([6, 8])\n"
     ]
    },
    {
     "data": {
      "text/plain": [
       "(tensor([[1.0000, 0.0000, 0.0000, 0.1000, 0.0000, 0.0000],\n",
       "         [2.0000, 1.0000, 0.0000, 0.2000, 0.1000, 0.0000],\n",
       "         [0.0000, 2.0000, 1.0000, 0.0000, 0.2000, 0.1000],\n",
       "         [0.0000, 0.0000, 2.0000, 0.0000, 0.0000, 0.2000],\n",
       "         [0.5000, 0.0000, 0.0000, 1.1000, 0.0000, 0.0000],\n",
       "         [1.5000, 0.5000, 0.0000, 1.2000, 1.1000, 0.0000],\n",
       "         [0.0000, 1.5000, 0.5000, 0.0000, 1.2000, 1.1000],\n",
       "         [0.0000, 0.0000, 1.5000, 0.0000, 0.0000, 1.2000]]),\n",
       " torch.Size([6, 8]))"
      ]
     },
     "execution_count": 166,
     "metadata": {},
     "output_type": "execute_result"
    }
   ],
   "source": [
    "W = create_conv1d_matrix(kernel, 4, 1, True)\n",
    "W.T, W.shape"
   ]
  },
  {
   "cell_type": "code",
   "execution_count": 41,
   "metadata": {},
   "outputs": [
    {
     "data": {
      "text/plain": [
       "(tensor([[0.5667, 0.8578, 0.0000, 0.0000],\n",
       "         [0.0000, 0.0000, 0.5667, 0.8578]]),\n",
       " torch.Size([2, 4]))"
      ]
     },
     "execution_count": 41,
     "metadata": {},
     "output_type": "execute_result"
    }
   ],
   "source": [
    "W_stride_2 = create_conv1d_matrix(torch.randn(1, 2), 4, 2)\n",
    "W_stride_2, W_stride_2.shape"
   ]
  },
  {
   "cell_type": "code",
   "execution_count": 42,
   "metadata": {},
   "outputs": [
    {
     "data": {
      "text/plain": [
       "(torch.Size([4, 2]),\n",
       " tensor([[-0.0448,  0.0510],\n",
       "         [-0.8144,  0.1313],\n",
       "         [ 0.4021, -0.4211],\n",
       "         [ 0.5654, -0.9289]]))"
      ]
     },
     "execution_count": 42,
     "metadata": {},
     "output_type": "execute_result"
    }
   ],
   "source": [
    "y = x @ W_stride_2.T\n",
    "y.shape, y"
   ]
  },
  {
   "cell_type": "code",
   "execution_count": 49,
   "metadata": {},
   "outputs": [],
   "source": [
    "class Conv1D:\n",
    "    def __init__(self, kernel_size, input_size, stride=1):\n",
    "        self.kernel = torch.randn(1, kernel_size) * 1 / (kernel_size * input_size) ** 2\n",
    "        \n",
    "        self.input_size = input_size\n",
    "        self.kernel_size = kernel_size\n",
    "        self.stride = stride\n",
    "        self.output_size = (input_size - kernel_size) // stride + 1\n",
    "        \n",
    "    def get_conv_matrix(self):\n",
    "        \"\"\"Create the convolution matrix using the shared kernel weights\"\"\"\n",
    "        # Create matrix with vectorized operations\n",
    "        output_positions = torch.arange(self.output_size).unsqueeze(1)\n",
    "        kernel_offsets = torch.arange(self.kernel_size).unsqueeze(0)\n",
    "        input_indices = (output_positions * self.stride) + kernel_offsets\n",
    "        \n",
    "        row_indices = torch.arange(self.output_size).repeat_interleave(self.kernel_size)\n",
    "        col_indices = input_indices.flatten()\n",
    "        \n",
    "        W = torch.zeros(self.output_size, self.input_size)\n",
    "        W[row_indices, col_indices] = self.kernel.repeat(1, self.output_size)\n",
    "        \n",
    "        return W\n",
    "    \n",
    "    def __call__(self, x):\n",
    "        # Convert the convolution to a matrix multiplication\n",
    "        W = self.get_conv_matrix()\n",
    "        print(f\"{W.shape=}\")\n",
    "        print(f\"{x.shape=}\")\n",
    "        self.out = x @ W.T # Autograd will track operations\n",
    "        return self.out\n",
    "    \n",
    "    def parameters(self):\n",
    "        # Similar to nn.Module.parameters() for optimizer compatibility\n",
    "        return [self.kernel]"
   ]
  },
  {
   "cell_type": "code",
   "execution_count": 68,
   "metadata": {},
   "outputs": [
    {
     "data": {
      "text/plain": [
       "torch.Size([100, 100, 3])"
      ]
     },
     "execution_count": 68,
     "metadata": {},
     "output_type": "execute_result"
    }
   ],
   "source": [
    "conv1d.weight.shape"
   ]
  },
  {
   "cell_type": "code",
   "execution_count": 69,
   "metadata": {},
   "outputs": [
    {
     "name": "stdout",
     "output_type": "stream",
     "text": [
      "torch conv1d weights: torch.Size([100, 100, 3])\n",
      "my conv1d weights: torch.Size([1, 3])\n",
      "W.shape=torch.Size([3, 8])\n",
      "x.shape=torch.Size([32, 100, 8])\n"
     ]
    },
    {
     "data": {
      "text/plain": [
       "(torch.Size([32, 100, 3]), torch.Size([32, 100, 3]))"
      ]
     },
     "execution_count": 69,
     "metadata": {},
     "output_type": "execute_result"
    }
   ],
   "source": [
    "import torch\n",
    "from torch.nn import Conv1d\n",
    "\n",
    "x = torch.randn(32, 100, 8)\n",
    "conv1d = Conv1d(in_channels=100, out_channels=100, kernel_size=3, stride=2)\n",
    "myconv1d = Conv1D(kernel_size=3, input_size=8, stride=2)\n",
    "print(f\"torch conv1d weights: {conv1d.weight.shape}\")\n",
    "print(f\"my conv1d weights: {myconv1d.parameters()[0].shape}\")\n",
    "conv1d(x).shape, myconv1d(x).shape"
   ]
  },
  {
   "cell_type": "code",
   "execution_count": 45,
   "metadata": {},
   "outputs": [],
   "source": [
    "class Sequential:\n",
    "    def __init__(self, vocab_size, embedding_dim, context_size, hidden_size):\n",
    "        self.layers = [\n",
    "            Embedding(vocab_size, embedding_dim),\n",
    "            # Flatten(),\n",
    "            Conv1D(kernel_size=3, input_size=context_size, stride=1), BatchNorm1d(6), Tanh(),\n",
    "            Conv1D(kernel_size=3, input_size=6, stride=1), BatchNorm1d(4), Tanh(),\n",
    "            Flatten(),\n",
    "            Linear(4, vocab_size, bias=False), BatchNorm1d(vocab_size), Tanh(),\n",
    "        ]\n",
    "        self.__post_init__()\n",
    "    \n",
    "    def __post_init__(self):\n",
    "        # self.layers[-1].gamma *= 0.1\n",
    "        for l in self.layers[:-1]:\n",
    "            if isinstance(l, Linear):\n",
    "                l.W *= 5/3\n",
    "    \n",
    "    def __call__(self, x):\n",
    "        out = x\n",
    "        for l in self.layers:\n",
    "            out = l(out)\n",
    "        return out\n",
    "        \n",
    "    def parameters(self):\n",
    "        return [p for l in self.layers for p in l.parameters()]\n"
   ]
  },
  {
   "cell_type": "code",
   "execution_count": 46,
   "metadata": {},
   "outputs": [
    {
     "name": "stdout",
     "output_type": "stream",
     "text": [
      "458\n"
     ]
    }
   ],
   "source": [
    "\n",
    "vocab_size = 27\n",
    "embedding_dim = 10\n",
    "context_size = 8\n",
    "hidden_size = 100\n",
    "model = Sequential(vocab_size, embedding_dim, context_size, hidden_size)\n",
    "\n",
    "print(sum(p.numel() for p in model.parameters()))\n",
    "for p in model.parameters():\n",
    "    p.requires_grad = True\n"
   ]
  },
  {
   "cell_type": "code",
   "execution_count": 47,
   "metadata": {},
   "outputs": [
    {
     "ename": "RuntimeError",
     "evalue": "mat1 and mat2 shapes cannot be multiplied (256x10 and 8x6)",
     "output_type": "error",
     "traceback": [
      "\u001b[0;31m---------------------------------------------------------------------------\u001b[0m",
      "\u001b[0;31mRuntimeError\u001b[0m                              Traceback (most recent call last)",
      "Cell \u001b[0;32mIn[47], line 7\u001b[0m\n\u001b[1;32m      5\u001b[0m \u001b[38;5;28;01mfor\u001b[39;00m i \u001b[38;5;129;01min\u001b[39;00m \u001b[38;5;28mrange\u001b[39m(epochs):\n\u001b[1;32m      6\u001b[0m     idxs \u001b[38;5;241m=\u001b[39m torch\u001b[38;5;241m.\u001b[39mrandint(\u001b[38;5;241m0\u001b[39m, train_xs\u001b[38;5;241m.\u001b[39mshape[\u001b[38;5;241m0\u001b[39m], (batch_size, ), generator\u001b[38;5;241m=\u001b[39mg)\n\u001b[0;32m----> 7\u001b[0m     logits \u001b[38;5;241m=\u001b[39m \u001b[43mmodel\u001b[49m\u001b[43m(\u001b[49m\u001b[43mtrain_xs\u001b[49m\u001b[43m[\u001b[49m\u001b[43midxs\u001b[49m\u001b[43m]\u001b[49m\u001b[43m)\u001b[49m\n\u001b[1;32m      8\u001b[0m     loss \u001b[38;5;241m=\u001b[39m F\u001b[38;5;241m.\u001b[39mcross_entropy(logits, train_ys[idxs])\n\u001b[1;32m     10\u001b[0m     \u001b[38;5;28;01mfor\u001b[39;00m p \u001b[38;5;129;01min\u001b[39;00m model\u001b[38;5;241m.\u001b[39mparameters():\n",
      "Cell \u001b[0;32mIn[45], line 22\u001b[0m, in \u001b[0;36mSequential.__call__\u001b[0;34m(self, x)\u001b[0m\n\u001b[1;32m     20\u001b[0m out \u001b[38;5;241m=\u001b[39m x\n\u001b[1;32m     21\u001b[0m \u001b[38;5;28;01mfor\u001b[39;00m l \u001b[38;5;129;01min\u001b[39;00m \u001b[38;5;28mself\u001b[39m\u001b[38;5;241m.\u001b[39mlayers:\n\u001b[0;32m---> 22\u001b[0m     out \u001b[38;5;241m=\u001b[39m \u001b[43ml\u001b[49m\u001b[43m(\u001b[49m\u001b[43mout\u001b[49m\u001b[43m)\u001b[49m\n\u001b[1;32m     23\u001b[0m \u001b[38;5;28;01mreturn\u001b[39;00m out\n",
      "Cell \u001b[0;32mIn[44], line 28\u001b[0m, in \u001b[0;36mConv1D.__call__\u001b[0;34m(self, x)\u001b[0m\n\u001b[1;32m     25\u001b[0m \u001b[38;5;28;01mdef\u001b[39;00m \u001b[38;5;21m__call__\u001b[39m(\u001b[38;5;28mself\u001b[39m, x):\n\u001b[1;32m     26\u001b[0m     \u001b[38;5;66;03m# Convert the convolution to a matrix multiplication\u001b[39;00m\n\u001b[1;32m     27\u001b[0m     W \u001b[38;5;241m=\u001b[39m \u001b[38;5;28mself\u001b[39m\u001b[38;5;241m.\u001b[39mget_conv_matrix()\n\u001b[0;32m---> 28\u001b[0m     \u001b[38;5;28mself\u001b[39m\u001b[38;5;241m.\u001b[39mout \u001b[38;5;241m=\u001b[39m \u001b[43mx\u001b[49m\u001b[43m \u001b[49m\u001b[38;5;241;43m@\u001b[39;49m\u001b[43m \u001b[49m\u001b[43mW\u001b[49m\u001b[38;5;241;43m.\u001b[39;49m\u001b[43mT\u001b[49m \u001b[38;5;66;03m# Autograd will track operations\u001b[39;00m\n\u001b[1;32m     29\u001b[0m     \u001b[38;5;28;01mreturn\u001b[39;00m \u001b[38;5;28mself\u001b[39m\u001b[38;5;241m.\u001b[39mout\n",
      "\u001b[0;31mRuntimeError\u001b[0m: mat1 and mat2 shapes cannot be multiplied (256x10 and 8x6)"
     ]
    }
   ],
   "source": [
    "epochs = 200000\n",
    "batch_size = 32\n",
    "losses = []\n",
    "update_to_data_ratio = []\n",
    "for i in range(epochs):\n",
    "    idxs = torch.randint(0, train_xs.shape[0], (batch_size, ), generator=g)\n",
    "    logits = model(train_xs[idxs])\n",
    "    loss = F.cross_entropy(logits, train_ys[idxs])\n",
    "\n",
    "    for p in model.parameters():\n",
    "        p.grad = None\n",
    "    loss.backward()\n",
    "    \n",
    "    lr = 0.1 if i < 100000 else 0.01\n",
    "    for p in model.parameters():\n",
    "        p.data += -lr * p.grad\n",
    "    \n",
    "    losses.append(loss.log10().item())\n",
    "    if i % 10000 == 0:\n",
    "        print(f\"{i=}/{epochs}, {loss.item()=}\")\n",
    "    \n",
    "    with torch.no_grad():\n",
    "        update_to_data_ratio.append([\n",
    "            (lr * p.grad.std() / p.data.std()).log10().item() \n",
    "            for p in model.parameters()\n",
    "        ])\n",
    "    break\n",
    "    # if i > 1000:    \n",
    "    #     break"
   ]
  },
  {
   "cell_type": "code",
   "execution_count": 245,
   "metadata": {},
   "outputs": [
    {
     "ename": "RuntimeError",
     "evalue": "shape '[-1, 1000]' is invalid for input of size 1002",
     "output_type": "error",
     "traceback": [
      "\u001b[0;31m---------------------------------------------------------------------------\u001b[0m",
      "\u001b[0;31mRuntimeError\u001b[0m                              Traceback (most recent call last)",
      "Cell \u001b[0;32mIn[245], line 1\u001b[0m\n\u001b[0;32m----> 1\u001b[0m plt\u001b[38;5;241m.\u001b[39mplot(\u001b[43mtorch\u001b[49m\u001b[38;5;241;43m.\u001b[39;49m\u001b[43mtensor\u001b[49m\u001b[43m(\u001b[49m\u001b[43mlosses\u001b[49m\u001b[43m)\u001b[49m\u001b[38;5;241;43m.\u001b[39;49m\u001b[43mview\u001b[49m\u001b[43m(\u001b[49m\u001b[38;5;241;43m-\u001b[39;49m\u001b[38;5;241;43m1\u001b[39;49m\u001b[43m,\u001b[49m\u001b[43m \u001b[49m\u001b[38;5;241;43m1000\u001b[39;49m\u001b[43m)\u001b[49m\u001b[38;5;241m.\u001b[39mmean(dim\u001b[38;5;241m=\u001b[39m\u001b[38;5;241m1\u001b[39m))\n",
      "\u001b[0;31mRuntimeError\u001b[0m: shape '[-1, 1000]' is invalid for input of size 1002"
     ]
    }
   ],
   "source": [
    "plt.plot(torch.tensor(losses).view(-1, 1000).mean(dim=1))\n",
    "# plt.plot(torch.tensor(losses[:-2]).view(-1, 100).mean(dim=1))"
   ]
  },
  {
   "cell_type": "code",
   "execution_count": 241,
   "metadata": {},
   "outputs": [
    {
     "name": "stdout",
     "output_type": "stream",
     "text": [
      "split_name='train', loss=2.5046181678771973\n",
      "split_name='dev', loss=2.5086700916290283\n"
     ]
    }
   ],
   "source": [
    "@torch.no_grad()  # avoids gradient bookeeping for backward pass\n",
    "def split_loss(split_name: str):\n",
    "    x, y = {\n",
    "        \"train\": (train_xs, train_ys),\n",
    "        \"dev\": (dev_xs, dev_ys),\n",
    "        \"test\": (test_xs, test_ys)\n",
    "    }[split_name]\n",
    "    for l in model.layers:\n",
    "        if isinstance(l, BatchNorm1d):\n",
    "            l.training = False\n",
    "    logits = model(x)\n",
    "    loss = F.cross_entropy(logits, y).item()\n",
    "    print(f\"{split_name=}, {loss=}\")\n",
    "\n",
    "split_loss(\"train\")\n",
    "split_loss(\"dev\")"
   ]
  },
  {
   "cell_type": "code",
   "execution_count": 246,
   "metadata": {},
   "outputs": [
    {
     "name": "stdout",
     "output_type": "stream",
     "text": [
      "Layer 4 outs: mean=-0.029063, std=5.808535e-01, saturation=4.38%\n",
      "Layer 7 outs: mean=-0.018195, std=6.247015e-01, saturation=3.52%\n",
      "Layer 10 outs: mean=-0.210018, std=6.599761e-01, saturation=3.59%\n"
     ]
    },
    {
     "data": {
      "image/png": "[encoded data removed]",
      "text/plain": [
       "<Figure size 2000x400 with 1 Axes>"
      ]
     },
     "metadata": {},
     "output_type": "display_data"
    }
   ],
   "source": [
    "plt.figure(figsize=(20, 4))\n",
    "legends = []\n",
    "for i, l in enumerate(model.layers):\n",
    "    if isinstance(l, Tanh):\n",
    "        t = l.out\n",
    "        mean, std = t.mean().item(), t.std().item()\n",
    "        saturation = ((t.abs() > .97).float().mean() * 100).item()\n",
    "        print(f\"Layer {i} outs: mean={mean:+f}, std={std:e}, saturation={saturation:.2f}%\")\n",
    "        ty, tx = torch.histogram(t, density=True)\n",
    "        plt.plot(tx[:-1].detach(), ty.detach())\n",
    "        legends.append(f\"Layer {i} {l.__class__.__name__}\")\n",
    "plt.legend(legends);"
   ]
  },
  {
   "cell_type": "code",
   "execution_count": 48,
   "metadata": {},
   "outputs": [
    {
     "name": "stdout",
     "output_type": "stream",
     "text": [
      "torch.Size([32, 8, 10])\n"
     ]
    },
    {
     "ename": "AttributeError",
     "evalue": "'Conv1D' object has no attribute 'out'",
     "output_type": "error",
     "traceback": [
      "\u001b[0;31m---------------------------------------------------------------------------\u001b[0m",
      "\u001b[0;31mAttributeError\u001b[0m                            Traceback (most recent call last)",
      "Cell \u001b[0;32mIn[48], line 2\u001b[0m\n\u001b[1;32m      1\u001b[0m \u001b[38;5;28;01mfor\u001b[39;00m layer \u001b[38;5;129;01min\u001b[39;00m model\u001b[38;5;241m.\u001b[39mlayers:\n\u001b[0;32m----> 2\u001b[0m     \u001b[38;5;28mprint\u001b[39m(\u001b[43mlayer\u001b[49m\u001b[38;5;241;43m.\u001b[39;49m\u001b[43mout\u001b[49m\u001b[38;5;241m.\u001b[39mshape)\n",
      "\u001b[0;31mAttributeError\u001b[0m: 'Conv1D' object has no attribute 'out'"
     ]
    }
   ],
   "source": [
    "for layer in model.layers:\n",
    "    print(layer.out.shape)"
   ]
  }
 ],
 "metadata": {
  "kernelspec": {
   "display_name": "mech_interp",
   "language": "python",
   "name": "python3"
  },
  "language_info": {
   "codemirror_mode": {
    "name": "ipython",
    "version": 3
   },
   "file_extension": ".py",
   "mimetype": "text/x-python",
   "name": "python",
   "nbconvert_exporter": "python",
   "pygments_lexer": "ipython3",
   "version": "3.9.21"
  }
 },
 "nbformat": 4,
 "nbformat_minor": 2
}
